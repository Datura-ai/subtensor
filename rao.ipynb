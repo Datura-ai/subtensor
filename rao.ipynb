{
 "cells": [
  {
   "cell_type": "code",
   "execution_count": 1,
   "metadata": {},
   "outputs": [],
   "source": [
    "import bittensor as bt"
   ]
  },
  {
   "cell_type": "code",
   "execution_count": 2,
   "metadata": {},
   "outputs": [],
   "source": [
    "sub = bt.subtensor('ws://104.171.201.172:9944')"
   ]
  },
  {
   "cell_type": "code",
   "execution_count": 132,
   "metadata": {},
   "outputs": [],
   "source": [
    "sub = bt.subtensor('local')"
   ]
  },
  {
   "cell_type": "code",
   "execution_count": 134,
   "metadata": {},
   "outputs": [
    {
     "data": {
      "text/plain": [
       "[0, 1, 3]"
      ]
     },
     "execution_count": 134,
     "metadata": {},
     "output_type": "execute_result"
    }
   ],
   "source": [
    "sub.get_subnets()"
   ]
  },
  {
   "cell_type": "code",
   "execution_count": 22,
   "metadata": {},
   "outputs": [],
   "source": [
    "alice = bt.wallet('alice')\n",
    "bob = bt.wallet('bob')"
   ]
  },
  {
   "cell_type": "code",
   "execution_count": 123,
   "metadata": {},
   "outputs": [
    {
     "name": "stdout",
     "output_type": "stream",
     "text": [
      "success\n"
     ]
    }
   ],
   "source": [
    "# Add stake.\n",
    "sub = bt.subtensor('local')\n",
    "alice = bt.Keypair.create_from_uri('//Alice')\n",
    "bob = bt.Keypair.create_from_uri('//Bob')\n",
    "charlie = bt.Keypair.create_from_uri('//Charlie')\n",
    "call = sub.substrate.compose_call(\n",
    "    call_module=\"SubtensorModule\",\n",
    "    call_function=\"add_stake\",\n",
    "    call_params={\n",
    "        \"hotkey\": charlie.ss58_address,\n",
    "        \"netuid\": 1,\n",
    "        \"amount_staked\": 1_000_000_000,\n",
    "    },\n",
    ")\n",
    "extrinsic = sub.substrate.create_signed_extrinsic(\n",
    "    call=call, keypair=alice\n",
    ")\n",
    "response = sub.substrate.submit_extrinsic(\n",
    "    extrinsic,\n",
    "    wait_for_finalization=True,\n",
    ")\n",
    "response.process_events()\n",
    "if not response.is_success:\n",
    "    print(response.error_message)\n",
    "else:\n",
    "    print ('success')"
   ]
  },
  {
   "cell_type": "code",
   "execution_count": 10,
   "metadata": {},
   "outputs": [
    {
     "name": "stdout",
     "output_type": "stream",
     "text": [
      "{'type': 'Module', 'name': 'UnstakeRateLimitExceeded', 'docs': ['A transactor exceeded the rate limit for unstaking.']}\n"
     ]
    }
   ],
   "source": [
    "sub = bt.subtensor('local')\n",
    "alice = bt.Keypair.create_from_uri('//Alice')\n",
    "bob = bt.Keypair.create_from_uri('//Bob')\n",
    "call = sub.substrate.compose_call(\n",
    "    call_module=\"SubtensorModule\",\n",
    "    call_function=\"remove_stake\",\n",
    "    call_params={\n",
    "        \"hotkey\": bob.ss58_address,\n",
    "        \"netuid\": 1,\n",
    "        \"amount_unstaked\": 1_000_000_000,\n",
    "    },\n",
    ")\n",
    "extrinsic = sub.substrate.create_signed_extrinsic(\n",
    "    call=call, keypair=alice\n",
    ")\n",
    "response = sub.substrate.submit_extrinsic(\n",
    "    extrinsic,\n",
    "    wait_for_finalization=True,\n",
    ")\n",
    "response.process_events()\n",
    "if not response.is_success:\n",
    "    print(response.error_message)\n",
    "else:\n",
    "    print ('success')"
   ]
  },
  {
   "cell_type": "code",
   "execution_count": 42,
   "metadata": {},
   "outputs": [
    {
     "name": "stdout",
     "output_type": "stream",
     "text": [
      "success\n"
     ]
    }
   ],
   "source": [
    "# Create networks\n",
    "import bittensor as bt\n",
    "alice = bt.Keypair.create_from_uri('//Alice')\n",
    "bob = bt.Keypair.create_from_uri('//Bob')\n",
    "call = sub.substrate.compose_call(\n",
    "    call_module=\"SubtensorModule\",\n",
    "    call_function=\"register_network\",\n",
    "    call_params={\n",
    "        \"mechid\": 1,\n",
    "        \"hotkey\": bob.ss58_address,\n",
    "    },\n",
    ")\n",
    "extrinsic = sub.substrate.create_signed_extrinsic(\n",
    "    call=call, keypair=alice\n",
    ")\n",
    "response = sub.substrate.submit_extrinsic(\n",
    "    extrinsic,\n",
    "    wait_for_finalization=True,\n",
    ")\n",
    "response.process_events()\n",
    "if not response.is_success:\n",
    "    print(response.error_message)\n",
    "else:\n",
    "    print ('success')"
   ]
  },
  {
   "cell_type": "code",
   "execution_count": 122,
   "metadata": {},
   "outputs": [
    {
     "name": "stdout",
     "output_type": "stream",
     "text": [
      "success\n"
     ]
    }
   ],
   "source": [
    "# Register keys\n",
    "import bittensor as bt\n",
    "sub = bt.subtensor('local')\n",
    "alice = bt.Keypair.create_from_uri('//Alice')\n",
    "charlie = bt.Keypair.create_from_uri('//Charlie')\n",
    "call = sub.substrate.compose_call(\n",
    "    call_module=\"SubtensorModule\",\n",
    "    call_function=\"burned_register\",\n",
    "    call_params={\n",
    "        \"hotkey\": charlie.ss58_address,\n",
    "        \"netuid\": 1,\n",
    "    },\n",
    ")\n",
    "extrinsic = sub.substrate.create_signed_extrinsic(\n",
    "    call=call, keypair=alice\n",
    ")\n",
    "response = sub.substrate.submit_extrinsic(\n",
    "    extrinsic,\n",
    "    wait_for_finalization=True,\n",
    ")\n",
    "response.process_events()\n",
    "if not response.is_success:\n",
    "    print(response.error_message)\n",
    "else:\n",
    "    print ('success')"
   ]
  },
  {
   "cell_type": "code",
   "execution_count": 135,
   "metadata": {},
   "outputs": [
    {
     "data": {
      "text/html": [
       "<pre style=\"white-space:pre;overflow-x:auto;line-height:normal;font-family:Menlo,'DejaVu Sans Mono',consolas,'Courier New',monospace\"><span style=\"font-style: italic\">                             Subnet Information                              </span>\n",
       "┏━━━━━━━━┳━━━━━━━━┳━━━━━━━━━┳━━━━━━━━━━━━━━━━━┳━━━━━━━━━━━━━━━━━┳━━━━━━━┳━━━┓\n",
       "┃<span style=\"font-weight: bold\"> Subnet </span>┃<span style=\"font-weight: bold\"> Mechid </span>┃<span style=\"font-weight: bold\">   S_TAO </span>┃<span style=\"font-weight: bold\">        Alpha In </span>┃<span style=\"font-weight: bold\">       Alpha Out </span>┃<span style=\"font-weight: bold\"> Price </span>┃<span style=\"font-weight: bold\"> N </span>┃\n",
       "┡━━━━━━━━╇━━━━━━━━╇━━━━━━━━━╇━━━━━━━━━━━━━━━━━╇━━━━━━━━━━━━━━━━━╇━━━━━━━╇━━━┩\n",
       "│<span style=\"color: #008080; text-decoration-color: #008080\">      0 </span>│<span style=\"color: #800080; text-decoration-color: #800080\"> 0      </span>│<span style=\"color: #008000; text-decoration-color: #008000\">     0.0 </span>│<span style=\"color: #808000; text-decoration-color: #808000\">             0.0 </span>│<span style=\"color: #808000; text-decoration-color: #808000\">             0.0 </span>│<span style=\"color: #800000; text-decoration-color: #800000\">     ∞ </span>│<span style=\"color: #000080; text-decoration-color: #000080\"> 0 </span>│\n",
       "│<span style=\"color: #008080; text-decoration-color: #008080\">      1 </span>│<span style=\"color: #800080; text-decoration-color: #800080\"> 1      </span>│<span style=\"color: #008000; text-decoration-color: #008000\"> 5,308.0 </span>│<span style=\"color: #808000; text-decoration-color: #808000\"> 4,307.218197687 </span>│<span style=\"color: #808000; text-decoration-color: #808000\"> 1,768.722246339 </span>│<span style=\"color: #800000; text-decoration-color: #800000\">  1.23 </span>│<span style=\"color: #000080; text-decoration-color: #000080\"> 2 </span>│\n",
       "│<span style=\"color: #008080; text-decoration-color: #008080\">      3 </span>│<span style=\"color: #800080; text-decoration-color: #800080\"> 0      </span>│<span style=\"color: #008000; text-decoration-color: #008000\">     0.0 </span>│<span style=\"color: #808000; text-decoration-color: #808000\">             0.0 </span>│<span style=\"color: #808000; text-decoration-color: #808000\">             0.0 </span>│<span style=\"color: #800000; text-decoration-color: #800000\">     ∞ </span>│<span style=\"color: #000080; text-decoration-color: #000080\"> 0 </span>│\n",
       "└────────┴────────┴─────────┴─────────────────┴─────────────────┴───────┴───┘\n",
       "</pre>\n"
      ],
      "text/plain": [
       "\u001b[3m                             Subnet Information                              \u001b[0m\n",
       "┏━━━━━━━━┳━━━━━━━━┳━━━━━━━━━┳━━━━━━━━━━━━━━━━━┳━━━━━━━━━━━━━━━━━┳━━━━━━━┳━━━┓\n",
       "┃\u001b[1m \u001b[0m\u001b[1mSubnet\u001b[0m\u001b[1m \u001b[0m┃\u001b[1m \u001b[0m\u001b[1mMechid\u001b[0m\u001b[1m \u001b[0m┃\u001b[1m \u001b[0m\u001b[1m  S_TAO\u001b[0m\u001b[1m \u001b[0m┃\u001b[1m \u001b[0m\u001b[1m       Alpha In\u001b[0m\u001b[1m \u001b[0m┃\u001b[1m \u001b[0m\u001b[1m      Alpha Out\u001b[0m\u001b[1m \u001b[0m┃\u001b[1m \u001b[0m\u001b[1mPrice\u001b[0m\u001b[1m \u001b[0m┃\u001b[1m \u001b[0m\u001b[1mN\u001b[0m\u001b[1m \u001b[0m┃\n",
       "┡━━━━━━━━╇━━━━━━━━╇━━━━━━━━━╇━━━━━━━━━━━━━━━━━╇━━━━━━━━━━━━━━━━━╇━━━━━━━╇━━━┩\n",
       "│\u001b[36m \u001b[0m\u001b[36m     0\u001b[0m\u001b[36m \u001b[0m│\u001b[35m \u001b[0m\u001b[35m0     \u001b[0m\u001b[35m \u001b[0m│\u001b[32m \u001b[0m\u001b[32m    0.0\u001b[0m\u001b[32m \u001b[0m│\u001b[33m \u001b[0m\u001b[33m            0.0\u001b[0m\u001b[33m \u001b[0m│\u001b[33m \u001b[0m\u001b[33m            0.0\u001b[0m\u001b[33m \u001b[0m│\u001b[31m \u001b[0m\u001b[31m    ∞\u001b[0m\u001b[31m \u001b[0m│\u001b[34m \u001b[0m\u001b[34m0\u001b[0m\u001b[34m \u001b[0m│\n",
       "│\u001b[36m \u001b[0m\u001b[36m     1\u001b[0m\u001b[36m \u001b[0m│\u001b[35m \u001b[0m\u001b[35m1     \u001b[0m\u001b[35m \u001b[0m│\u001b[32m \u001b[0m\u001b[32m5,308.0\u001b[0m\u001b[32m \u001b[0m│\u001b[33m \u001b[0m\u001b[33m4,307.218197687\u001b[0m\u001b[33m \u001b[0m│\u001b[33m \u001b[0m\u001b[33m1,768.722246339\u001b[0m\u001b[33m \u001b[0m│\u001b[31m \u001b[0m\u001b[31m 1.23\u001b[0m\u001b[31m \u001b[0m│\u001b[34m \u001b[0m\u001b[34m2\u001b[0m\u001b[34m \u001b[0m│\n",
       "│\u001b[36m \u001b[0m\u001b[36m     3\u001b[0m\u001b[36m \u001b[0m│\u001b[35m \u001b[0m\u001b[35m0     \u001b[0m\u001b[35m \u001b[0m│\u001b[32m \u001b[0m\u001b[32m    0.0\u001b[0m\u001b[32m \u001b[0m│\u001b[33m \u001b[0m\u001b[33m            0.0\u001b[0m\u001b[33m \u001b[0m│\u001b[33m \u001b[0m\u001b[33m            0.0\u001b[0m\u001b[33m \u001b[0m│\u001b[31m \u001b[0m\u001b[31m    ∞\u001b[0m\u001b[31m \u001b[0m│\u001b[34m \u001b[0m\u001b[34m0\u001b[0m\u001b[34m \u001b[0m│\n",
       "└────────┴────────┴─────────┴─────────────────┴─────────────────┴───────┴───┘\n"
      ]
     },
     "metadata": {},
     "output_type": "display_data"
    }
   ],
   "source": [
    "# Get all subnets\n",
    "sub = bt.subtensor('local')\n",
    "subnets = sub.get_subnets()\n",
    "\n",
    "# Query the state for each subnet\n",
    "from rich.table import Table\n",
    "from rich.console import Console\n",
    "table = Table(title=\"Subnet Information\")\n",
    "table.add_column(\"Subnet\", justify=\"right\", style=\"cyan\", no_wrap=True)\n",
    "table.add_column(\"Mechid\", style=\"magenta\")\n",
    "table.add_column(\"S_TAO\", justify=\"right\", style=\"green\")\n",
    "table.add_column(\"Alpha In\", justify=\"right\", style=\"yellow\")\n",
    "table.add_column(\"Alpha Out\", justify=\"right\", style=\"yellow\")\n",
    "table.add_column(\"Price\", justify=\"right\", style=\"red\")\n",
    "table.add_column(\"N\", justify=\"right\", style=\"blue\")  # Added new column for subnetwork n\n",
    "\n",
    "for subnet in subnets:\n",
    "    mechid = sub.substrate.query(\n",
    "        module=\"SubtensorModule\",\n",
    "        storage_function=\"SubnetMechanism\",\n",
    "        params=[subnet]\n",
    "    ).value\n",
    "    s_tao = sub.substrate.query(\n",
    "        module=\"SubtensorModule\",\n",
    "        storage_function=\"SubnetTAO\",\n",
    "        params=[subnet]\n",
    "    ).value/10**9\n",
    "    alpha_in = sub.substrate.query(\n",
    "        module=\"SubtensorModule\",\n",
    "        storage_function=\"SubnetAlphaIn\",\n",
    "        params=[subnet]\n",
    "    ).value/10**9\n",
    "    alpha_out = sub.substrate.query(\n",
    "        module=\"SubtensorModule\",\n",
    "        storage_function=\"SubnetAlphaOut\",\n",
    "        params=[subnet]\n",
    "    ).value/10**9\n",
    "    sn = sub.substrate.query(\n",
    "        module=\"SubtensorModule\",\n",
    "        storage_function=\"SubnetworkN\",\n",
    "        params=[subnet]\n",
    "    ).value\n",
    "    price = s_tao / alpha_in if alpha_in != 0 else float('inf')\n",
    "    \n",
    "    table.add_row(\n",
    "        str(subnet),\n",
    "        str(mechid),\n",
    "        f\"{s_tao:,}\",\n",
    "        f\"{alpha_in:,}\",\n",
    "        f\"{alpha_out:,}\",\n",
    "        f\"{price:.2f}\" if price != float('inf') else \"∞\",\n",
    "        str(sn)  # Added subnetwork n to the table row\n",
    "    )\n",
    "\n",
    "console = Console()\n",
    "console.print(table)\n",
    "\n",
    "\n"
   ]
  },
  {
   "cell_type": "code",
   "execution_count": 137,
   "metadata": {},
   "outputs": [
    {
     "name": "stdout",
     "output_type": "stream",
     "text": [
      "0\n",
      "0\n",
      "0\n",
      "0\n"
     ]
    }
   ],
   "source": [
    "alice = bt.Keypair.create_from_uri('//Alice')\n",
    "# charlie = bt.Keypair.create_from_uri('//Charlie')\n",
    "bob = bt.Keypair.create_from_uri('//Bob')\n",
    "for i in range(4):\n",
    "    s_tao = sub.substrate.query(\n",
    "        module=\"SubtensorModule\",\n",
    "        storage_function=\"Alpha\",\n",
    "        params=(alice.ss58_address, bob.ss58_address, i)\n",
    "    )\n",
    "    print (s_tao)"
   ]
  },
  {
   "cell_type": "code",
   "execution_count": null,
   "metadata": {},
   "outputs": [],
   "source": []
  }
 ],
 "metadata": {
  "kernelspec": {
   "display_name": "Python 3",
   "language": "python",
   "name": "python3"
  },
  "language_info": {
   "codemirror_mode": {
    "name": "ipython",
    "version": 3
   },
   "file_extension": ".py",
   "mimetype": "text/x-python",
   "name": "python",
   "nbconvert_exporter": "python",
   "pygments_lexer": "ipython3",
   "version": "3.11.9"
  }
 },
 "nbformat": 4,
 "nbformat_minor": 2
}
