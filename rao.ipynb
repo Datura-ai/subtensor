{
 "cells": [
  {
   "cell_type": "code",
   "execution_count": 6,
   "metadata": {},
   "outputs": [],
   "source": [
    "import bittensor as bt"
   ]
  },
  {
   "cell_type": "code",
   "execution_count": 20,
   "metadata": {},
   "outputs": [
    {
     "name": "stdout",
     "output_type": "stream",
     "text": [
      "\u001b[34m2024-07-17 11:27:22.518\u001b[0m | \u001b[1m      INFO      \u001b[0m | Connected to local network and ws://127.0.0.1:9944.\n"
     ]
    }
   ],
   "source": [
    "sub = bt.subtensor('local')"
   ]
  },
  {
   "cell_type": "code",
   "execution_count": 7,
   "metadata": {},
   "outputs": [
    {
     "data": {
      "text/plain": [
       "[0, 1, 2, 3, 4, 5]"
      ]
     },
     "execution_count": 7,
     "metadata": {},
     "output_type": "execute_result"
    }
   ],
   "source": [
    "sub.get_subnets()"
   ]
  },
  {
   "cell_type": "code",
   "execution_count": 14,
   "metadata": {},
   "outputs": [],
   "source": [
    "alice = bt.wallet('alice')\n",
    "bob = bt.wallet('bob')"
   ]
  },
  {
   "cell_type": "code",
   "execution_count": 11,
   "metadata": {},
   "outputs": [
    {
     "name": "stdout",
     "output_type": "stream",
     "text": [
      "\u001b[34m2024-07-17 11:35:47.633\u001b[0m | \u001b[1m      INFO      \u001b[0m | Connected to local network and ws://127.0.0.1:9944.\n",
      "success\n"
     ]
    }
   ],
   "source": [
    "# Add stake.\n",
    "sub = bt.subtensor('local')\n",
    "alice = bt.wallet()\n",
    "keypair = bt.Keypair.create_from_uri('//Alice')\n",
    "alice.set_coldkey(keypair=keypair, encrypt=False, overwrite=True)\n",
    "alice.set_coldkeypub(keypair=keypair, encrypt=False, overwrite=True)\n",
    "alice.set_hotkey(keypair=keypair, encrypt=False, overwrite=True)\n",
    "call = sub.substrate.compose_call(\n",
    "    call_module=\"SubtensorModule\",\n",
    "    call_function=\"add_stake\",\n",
    "    call_params={\n",
    "        \"hotkey\": alice.hotkey.ss58_address,\n",
    "        \"netuid\": 2,\n",
    "        \"amount_staked\": 1_000_000_000,\n",
    "    },\n",
    ")\n",
    "extrinsic = sub.substrate.create_signed_extrinsic(\n",
    "    call=call, keypair=alice.coldkey\n",
    ")\n",
    "response = sub.substrate.submit_extrinsic(\n",
    "    extrinsic,\n",
    "    wait_for_finalization=True,\n",
    ")\n",
    "response.process_events()\n",
    "if not response.is_success:\n",
    "    print(response.error_message)\n",
    "else:\n",
    "    print ('success')"
   ]
  },
  {
   "cell_type": "code",
   "execution_count": null,
   "metadata": {},
   "outputs": [],
   "source": []
  },
  {
   "cell_type": "code",
   "execution_count": 6,
   "metadata": {},
   "outputs": [
    {
     "name": "stdout",
     "output_type": "stream",
     "text": [
      "\u001b[34m2024-07-17 11:33:26.494\u001b[0m | \u001b[1m      INFO      \u001b[0m | Connected to local network and ws://127.0.0.1:9944.\n",
      "success\n"
     ]
    }
   ],
   "source": [
    "# Create networks\n",
    "import bittensor as bt\n",
    "sub = bt.subtensor('local')\n",
    "alice = bt.wallet()\n",
    "keypair = bt.Keypair.create_from_uri('//Alice')\n",
    "alice.set_coldkey(keypair=keypair, encrypt=False, overwrite=True)\n",
    "alice.set_coldkeypub(keypair=keypair, encrypt=False, overwrite=True)\n",
    "alice.set_hotkey(keypair=keypair, encrypt=False, overwrite=True)\n",
    "call = sub.substrate.compose_call(\n",
    "    call_module=\"SubtensorModule\",\n",
    "    call_function=\"register_network\",\n",
    ")\n",
    "extrinsic = sub.substrate.create_signed_extrinsic(\n",
    "    call=call, keypair=alice.coldkey\n",
    ")\n",
    "response = sub.substrate.submit_extrinsic(\n",
    "    extrinsic,\n",
    "    wait_for_finalization=True,\n",
    ")\n",
    "response.process_events()\n",
    "if not response.is_success:\n",
    "    print(response.error_message)\n",
    "else:\n",
    "    print ('success')"
   ]
  },
  {
   "cell_type": "code",
   "execution_count": 9,
   "metadata": {},
   "outputs": [
    {
     "name": "stdout",
     "output_type": "stream",
     "text": [
      "\u001b[34m2024-07-17 11:35:08.258\u001b[0m | \u001b[1m      INFO      \u001b[0m | Connected to local network and ws://127.0.0.1:9944.\n",
      "success\n"
     ]
    }
   ],
   "source": [
    "# Register keys\n",
    "import bittensor as bt\n",
    "sub = bt.subtensor('local')\n",
    "alice = bt.wallet()\n",
    "keypair = bt.Keypair.create_from_uri('//Alice')\n",
    "alice.set_coldkey(keypair=keypair, encrypt=False, overwrite=True)\n",
    "alice.set_coldkeypub(keypair=keypair, encrypt=False, overwrite=True)\n",
    "alice.set_hotkey(keypair=keypair, encrypt=False, overwrite=True)\n",
    "call = sub.substrate.compose_call(\n",
    "    call_module=\"SubtensorModule\",\n",
    "    call_function=\"burned_register\",\n",
    "    call_params={\n",
    "        \"hotkey\": alice.hotkey.ss58_address,\n",
    "        \"netuid\": 2,\n",
    "    },\n",
    ")\n",
    "extrinsic = sub.substrate.create_signed_extrinsic(\n",
    "    call=call, keypair=alice.coldkey\n",
    ")\n",
    "response = sub.substrate.submit_extrinsic(\n",
    "    extrinsic,\n",
    "    wait_for_finalization=True,\n",
    ")\n",
    "response.process_events()\n",
    "if not response.is_success:\n",
    "    print(response.error_message)\n",
    "else:\n",
    "    print ('success')"
   ]
  },
  {
   "cell_type": "code",
   "execution_count": 10,
   "metadata": {},
   "outputs": [
    {
     "data": {
      "text/plain": [
       "[NeuronInfo(hotkey='5GrwvaEF5zXb26Fz9rcQpDWS57CtERHpNehXCPcNoHGKutQY', coldkey='5GrwvaEF5zXb26Fz9rcQpDWS57CtERHpNehXCPcNoHGKutQY', uid=0, netuid=2, active=True, stake=τ0.000000000, stake_dict={'5GrwvaEF5zXb26Fz9rcQpDWS57CtERHpNehXCPcNoHGKutQY': τ0.000000000}, total_stake=τ0.000000000, rank=0.0, emission=0.0, incentive=0.0, consensus=0.0, trust=0.0, validator_trust=0.0, dividends=0.0, last_update=2740, validator_permit=False, weights=[], bonds=[], pruning_score=0, prometheus_info=PrometheusInfo(block=0, version=0, ip='0.0.0.0', port=0, ip_type=0), axon_info=AxonInfo( /ipv0/0.0.0.0:0, 5GrwvaEF5zXb26Fz9rcQpDWS57CtERHpNehXCPcNoHGKutQY, 5GrwvaEF5zXb26Fz9rcQpDWS57CtERHpNehXCPcNoHGKutQY, 0 ), is_null=False)]"
      ]
     },
     "execution_count": 10,
     "metadata": {},
     "output_type": "execute_result"
    }
   ],
   "source": [
    "sub.get_all_neurons_for_pubkey(alice.hotkey.ss58_address)"
   ]
  },
  {
   "cell_type": "code",
   "execution_count": null,
   "metadata": {},
   "outputs": [],
   "source": []
  }
 ],
 "metadata": {
  "kernelspec": {
   "display_name": "Python 3",
   "language": "python",
   "name": "python3"
  },
  "language_info": {
   "codemirror_mode": {
    "name": "ipython",
    "version": 3
   },
   "file_extension": ".py",
   "mimetype": "text/x-python",
   "name": "python",
   "nbconvert_exporter": "python",
   "pygments_lexer": "ipython3",
   "version": "3.11.9"
  }
 },
 "nbformat": 4,
 "nbformat_minor": 2
}
