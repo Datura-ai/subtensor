{
 "cells": [
  {
   "cell_type": "code",
   "execution_count": 32,
   "metadata": {},
   "outputs": [],
   "source": [
    "import bittensor\n",
    "from tqdm import tqdm\n",
    "import numpy as np\n",
    "\n",
    "sub = bittensor.subtensor(network=\"wss://lite.chain.opentensor.ai:443\")"
   ]
  },
  {
   "cell_type": "code",
   "execution_count": 8,
   "metadata": {},
   "outputs": [],
   "source": [
    "arb_blocks_map = sub.query_map_subtensor(\n",
    "    name=\"ColdkeyArbitrationBlock\",\n",
    ")"
   ]
  },
  {
   "cell_type": "code",
   "execution_count": 9,
   "metadata": {},
   "outputs": [],
   "source": [
    "import requests\n",
    "import json\n",
    "import re\n",
    "\n",
    "pat = re.compile(r'class=\"break-words text-lg line-clamp-1\">(5\\w{47})')\n",
    "pat_block = re.compile(r\"(33\\d{5})\")\n",
    "url = \"https://keycheck.taostats.io/\"\n",
    "def get_destination_and_block(old_coldkey):\n",
    "    url_ = url + old_coldkey\n",
    "    response = requests.get(url_)\n",
    "    response_text = response.text # html\n",
    "    addy = pat.findall(response_text)[0]\n",
    "\n",
    "    block = pat_block.findall(response_text)[0]\n",
    "    return addy, block"
   ]
  },
  {
   "cell_type": "code",
   "execution_count": null,
   "metadata": {},
   "outputs": [],
   "source": [
    "curr_block = sub.get_current_block()\n",
    "moved_already = {}\n",
    "for old_coldkey, arb_block in arb_blocks_map:\n",
    "    arb_block = arb_block.value\n",
    "    old_coldkey = old_coldkey.value\n",
    "\n",
    "    dest, block = get_destination_and_block(old_coldkey)\n",
    "    if arb_block <= curr_block + 250 and arb_block >= 3_372_000:\n",
    "        print(f\"Old coldkey: {old_coldkey}, new coldkey: {dest}, block: {arb_block}\")\n",
    "        moved_already[old_coldkey] = dest, block, arb_block"
   ]
  },
  {
   "cell_type": "code",
   "execution_count": 25,
   "metadata": {},
   "outputs": [],
   "source": [
    "with open(\"accts.json\", \"r\") as f:\n",
    "    jake_accts = json.load(f)"
   ]
  },
  {
   "cell_type": "code",
   "execution_count": 36,
   "metadata": {},
   "outputs": [
    {
     "name": "stdout",
     "output_type": "stream",
     "text": [
      "6b9f3c74794d15e790d48892df7faee318ef1abce35b44ec8c0ca5cc3bb31263\n"
     ]
    }
   ],
   "source": [
    "import substrateinterface\n",
    "substrate: substrateinterface.SubstrateInterface\n",
    "\n",
    "zero_weight = {\n",
    "    \"ref_time\": 0,\n",
    "    \"proof_size\": 0,\n",
    "}\n",
    "with sub.substrate as substrate:\n",
    "    \n",
    "    calls = []\n",
    "    for acct in jake_accts:\n",
    "        src = acct[\"source\"]\n",
    "        dst = acct[\"dest\"][0]\n",
    "        \n",
    "        swap_call = substrate.compose_call(\n",
    "            call_module='SubtensorModule',\n",
    "            call_function='sudo_hotfix_swap_coldkey_delegates',\n",
    "            call_params={\n",
    "                \"old_coldkey\": src,\n",
    "                \"new_coldkey\": dst,\n",
    "            }\n",
    "        )\n",
    "        calls.append(swap_call)\n",
    "\n",
    "    batch_call = substrate.compose_call(\n",
    "        call_module='Utility',\n",
    "        call_function='batch',\n",
    "        call_params={\n",
    "            \"calls\": calls,\n",
    "        }\n",
    "    )\n",
    "\n",
    "    sudo_call = substrate.compose_call(\n",
    "        call_module='Sudo',\n",
    "        call_function='sudo_unchecked_weight',\n",
    "        call_params={\n",
    "            \"call\": batch_call,\n",
    "            \"weight\": zero_weight\n",
    "        }\n",
    "    )\n",
    "\n",
    "\n",
    "    with open(\"sudo_hash.txt\", \"w\") as f:\n",
    "        f.write(str(sudo_call.call_hash.hex()))\n",
    "\n",
    "    print(sudo_call.call_hash.hex())\n"
   ]
  },
  {
   "cell_type": "code",
   "execution_count": 38,
   "metadata": {},
   "outputs": [
    {
     "data": {
      "application/vnd.jupyter.widget-view+json": {
       "model_id": "59b2a86a7e0e411fbc8c8e0f072360b3",
       "version_major": 2,
       "version_minor": 0
      },
      "text/plain": [
       "Output()"
      ]
     },
     "metadata": {},
     "output_type": "display_data"
    },
    {
     "data": {
      "text/html": [
       "<pre style=\"white-space:pre;overflow-x:auto;line-height:normal;font-family:Menlo,'DejaVu Sans Mono',consolas,'Courier New',monospace\"></pre>\n"
      ],
      "text/plain": []
     },
     "metadata": {},
     "output_type": "display_data"
    }
   ],
   "source": [
    "with sub.substrate as substrate:\n",
    "    multi_sig_call = substrate.compose_call(\n",
    "        call_module='Multisig',\n",
    "        call_function='as_multi',\n",
    "        call_params={\n",
    "            \"call\": sudo_call,\n",
    "            \"threshold\": 2,\n",
    "            \"other_signatories\": [\n",
    "                \"5FPJHiZnj5wk2hGxer7xwBJi91WNwsssYeVspq7Sd9mhwyxt\",\n",
    "                \"5GmX9ZESxY6b8N2LxWKnaYH3VmbmPRjM4iu5f8oRs78R2Hzi\"\n",
    "            ],\n",
    "            \"max_weight\": zero_weight,\n",
    "            \"maybe_timepoint\": None,\n",
    "        }\n",
    "    )\n",
    "\n",
    "    w = bittensor.wallet(name=\"trium_sig\", hotkey=\"h0\")\n",
    "    signed = substrate.create_signed_extrinsic(\n",
    "        multi_sig_call,\n",
    "        w.coldkey\n",
    "    )"
   ]
  },
  {
   "cell_type": "code",
   "execution_count": 39,
   "metadata": {},
   "outputs": [
    {
     "data": {
      "text/plain": [
       "<GenericExtrinsic(value={'account_id': '0xacc85abe267657a12aa2795fffb54618b92e83fb64f5930ae3a4c7a17513215b', 'signature': {'Sr25519': '0x22404fc136f84792edcf5147b2e8e56275705706233c8b1c8a7f33dcf2906e442d3aa0f36448fde7432e1fa407b17a8bba2b2500f06187252e7d17aae272128f'}, 'call_function': 'as_multi', 'call_module': 'Multisig', 'call_args': {'call': <GenericCall(value={'call_module': 'Sudo', 'call_function': 'sudo_unchecked_weight', 'call_args': {'call': <GenericCall(value={'call_module': 'Utility', 'call_function': 'batch', 'call_args': {'calls': [<GenericCall(value={'call_module': 'SubtensorModule', 'call_function': 'sudo_hotfix_swap_coldkey_delegates', 'call_args': {'old_coldkey': '5CQ2X83y5HijGX5h2HaA3ecYZo4nRXxS2XgN8TgLwkEUkXvW', 'new_coldkey': '5GP7fVa4tyiXkBpoxquJ2Hua19nvcqTE7FpyNNdpgBp741qk'}})>, <GenericCall(value={'call_module': 'SubtensorModule', 'call_function': 'sudo_hotfix_swap_coldkey_delegates', 'call_args': {'old_coldkey': '5EA1W6o97C6G8uhawC5MxHrYtiE7bTSsrA9Rg2uRbb4eWUF8', 'new_coldkey': '5Ext1B4v7mJAsxQrHmMxU1oQxbTnXkg4j6h5wGHHZCYNwULC'}})>, <GenericCall(value={'call_module': 'SubtensorModule', 'call_function': 'sudo_hotfix_swap_coldkey_delegates', 'call_args': {'old_coldkey': '5ES7RB2Qm45CwMNDZkTvfF2LxXPRtjzAdwHafrocftsTt1xy', 'new_coldkey': '5Gn9nv7Le5XYitfP86bdDuc92fUtcPGQtDM6vCcZur4fwUpy'}})>, <GenericCall(value={'call_module': 'SubtensorModule', 'call_function': 'sudo_hotfix_swap_coldkey_delegates', 'call_args': {'old_coldkey': '5Ct6PtDeCKEJZ9D73HH5uhA72PgaJyiEhwp6Gvkx6QhCjwK8', 'new_coldkey': '5DAakJ2SWBQ2qavWEJvdNUv8176Re82Wgrm3hy7MN55oTauo'}})>, <GenericCall(value={'call_module': 'SubtensorModule', 'call_function': 'sudo_hotfix_swap_coldkey_delegates', 'call_args': {'old_coldkey': '5H91AtorYYPpbdxpQoyy9TkL7BB1W66vQ9FB34QMPdyQwSPN', 'new_coldkey': '5E1a9ws6KvP3rhheKeF6ds3A1yjFznC4G9zw1x6fSwVEvNk1'}})>, <GenericCall(value={'call_module': 'SubtensorModule', 'call_function': 'sudo_hotfix_swap_coldkey_delegates', 'call_args': {'old_coldkey': '5F1YYBuAabSr8f7rRoaonzPuAE8m1mvgoQpbc5ZX2SAuofMD', 'new_coldkey': '5CzBrsJmio2Fj6bFg7Y7rg4vXKYwC3UkoF7FJ4EaMENzm2q2'}})>, <GenericCall(value={'call_module': 'SubtensorModule', 'call_function': 'sudo_hotfix_swap_coldkey_delegates', 'call_args': {'old_coldkey': '5Gpbq4osa54zba3ku4Tz2FY8tB9v5xQfmYos9pLEJwKXVGoA', 'new_coldkey': '5GEAb9K1PMCQgzJpdLGAWSCKxS3EDKAFUeopbWnGt6ZRJ7Cn'}})>, <GenericCall(value={'call_module': 'SubtensorModule', 'call_function': 'sudo_hotfix_swap_coldkey_delegates', 'call_args': {'old_coldkey': '5GzitDU7dqcf4X7zWugBbPcbut3ivtLGt4wkSsUoFeyQhFy7', 'new_coldkey': '5FnmbYCQa28yivmxcxuKaeJrAb2NuCV8EYchodehE3kpnRjS'}})>, <GenericCall(value={'call_module': 'SubtensorModule', 'call_function': 'sudo_hotfix_swap_coldkey_delegates', 'call_args': {'old_coldkey': '5FqLxuTPnf7Kseiy4mztKdZJBj9SzjGotagN9mEacLNwhKMH', 'new_coldkey': '5DU9nVMNsUqaSZTp8UkQ2dNp6aTQAaBYdQeAapfX8JDmwxFY'}})>, <GenericCall(value={'call_module': 'SubtensorModule', 'call_function': 'sudo_hotfix_swap_coldkey_delegates', 'call_args': {'old_coldkey': '5CJELTS2zQpg8e98bDjiSHy5WfwQV2zqVAu4MrCBoYYCbcBm', 'new_coldkey': '5FFXXq9KN2BYZyydt15D2HoY5UhEHCnVFVsDstV8J6hTnYRM'}})>, <GenericCall(value={'call_module': 'SubtensorModule', 'call_function': 'sudo_hotfix_swap_coldkey_delegates', 'call_args': {'old_coldkey': '5CVNXt5geoYxdzFefYA58HGgzRHfHaWioe5DtR6zPVqyQzPC', 'new_coldkey': '5GH1UG25Qrkq5D3Jdq1xtEJ2nwPK17a94RmFBBJEn7hG3V5X'}})>, <GenericCall(value={'call_module': 'SubtensorModule', 'call_function': 'sudo_hotfix_swap_coldkey_delegates', 'call_args': {'old_coldkey': '5Ct64HXTt77uibdNGeFPrezG9iQ3Ut12ZyQj4g2KSBrXrBCE', 'new_coldkey': '5GZSAgaVGQqegjhEkxpJjpSVLVmNnE2vx2PFLzr7kBBMKpGQ'}})>, <GenericCall(value={'call_module': 'SubtensorModule', 'call_function': 'sudo_hotfix_swap_coldkey_delegates', 'call_args': {'old_coldkey': '5DV9hzhHbJNQj41no6z3VYvDJXWuCkFAqW6XWyEGTmyntc6P', 'new_coldkey': '5HjPGgP3yR1woFHVp5KtUDTbtfpjCiaSt5xdhetUcZaL4gHi'}})>, <GenericCall(value={'call_module': 'SubtensorModule', 'call_function': 'sudo_hotfix_swap_coldkey_delegates', 'call_args': {'old_coldkey': '5H93Hgo6bZmazTivvYJML1GDnkmpaWTEreqcoXfB57j1ZMC8', 'new_coldkey': '5EjvHWVi4Ztw5NbbWNaucF1a21yZyRaAMbTWpX3GiLa3eECC'}})>, <GenericCall(value={'call_module': 'SubtensorModule', 'call_function': 'sudo_hotfix_swap_coldkey_delegates', 'call_args': {'old_coldkey': '5HTwrmCTuehiauv8ua7v4LsQ2mYuCP9Nt7VQYPrmNKrVhxCd', 'new_coldkey': '5Dw6oJmgwg4sjGC1Q6HYVz1Bkgsg5FPX2zkZmUkD3NxCikdd'}})>, <GenericCall(value={'call_module': 'SubtensorModule', 'call_function': 'sudo_hotfix_swap_coldkey_delegates', 'call_args': {'old_coldkey': '5Gbh8VH6WUCR3YPACJVUPGXfUVrQMozSfdXPMCzUZfCbeXDw', 'new_coldkey': '5CUhwJ4Qa7BWypNqsB3bGiNWRPFmStUsuc3JnsF2LPnkR8L3'}})>, <GenericCall(value={'call_module': 'SubtensorModule', 'call_function': 'sudo_hotfix_swap_coldkey_delegates', 'call_args': {'old_coldkey': '5EhPfGM2n8EtbCxye251aEAGc3CjZHVZmvz98tQ3KiT7SGD7', 'new_coldkey': '5EhdV2jLtP4hc25CzTpdy4FgqJiMFmJ2UhYugGuLjaGUax4v'}})>, <GenericCall(value={'call_module': 'SubtensorModule', 'call_function': 'sudo_hotfix_swap_coldkey_delegates', 'call_args': {'old_coldkey': '5HKADCECQrtY1EVp6yfPk1p9nxwEczRUwxbswiJmNSzKXYwy', 'new_coldkey': '5GZSdoqCPkgkenypdQ7LJYCaYv4q4813Yyp9idHbrpqKvYKB'}})>, <GenericCall(value={'call_module': 'SubtensorModule', 'call_function': 'sudo_hotfix_swap_coldkey_delegates', 'call_args': {'old_coldkey': '5EgvN7btj4yr3A4nr22vDT3uqNDbJvKLMCwneQB8tr8D6j9M', 'new_coldkey': '5CfZn1cJP2TTsbAr1vM6vxFFTBPxZfqh9brz76rBsswCWvWM'}})>, <GenericCall(value={'call_module': 'SubtensorModule', 'call_function': 'sudo_hotfix_swap_coldkey_delegates', 'call_args': {'old_coldkey': '5CUmzo6B9WjE7qFozXAk7dABNcCsM28Nsq5BcEVodL8Uorpp', 'new_coldkey': '5FUYHszDHcnS5fczfnUiLoq9vNk9NLnmYu4SWQt1uFzDPASb'}})>, <GenericCall(value={'call_module': 'SubtensorModule', 'call_function': 'sudo_hotfix_swap_coldkey_delegates', 'call_args': {'old_coldkey': '5C7Ro3auD2Y5QoVGWEKANeGjui8PiRD5aUnb5s2E6pJ2T3dS', 'new_coldkey': '5CY2ut7ZxZuXWbxdWQfQzWkmekq8HtMbcnYYZ73B4uX2v3kC'}})>, <GenericCall(value={'call_module': 'SubtensorModule', 'call_function': 'sudo_hotfix_swap_coldkey_delegates', 'call_args': {'old_coldkey': '5HN3h6rmfHgXZuqc1NTXZFtLeUH9Pn4T7Ln9sAyHn2B7vkPT', 'new_coldkey': '5HTRDSNRbx3cLqUh6maywq7p2Rvx71gX5RKFPmL53tsRvDFV'}})>, <GenericCall(value={'call_module': 'SubtensorModule', 'call_function': 'sudo_hotfix_swap_coldkey_delegates', 'call_args': {'old_coldkey': '5F9S4dFjNvzRQ3Z2Qq9Gb2zUgtQdPLpxjBrpNuqoEmsRJhxR', 'new_coldkey': '5C5QM5U8u7f2MDygQbzGZmcSbz9KxSk9vy7uNW4XKnmWmNbj'}})>, <GenericCall(value={'call_module': 'SubtensorModule', 'call_function': 'sudo_hotfix_swap_coldkey_delegates', 'call_args': {'old_coldkey': '5CS3W33c9Ry9i6r5cmKW7hJvahiEPhWDiLGhhoEK8vAVfRAs', 'new_coldkey': '5Gh4526RKuFz25xVU2K1i3LLacVeBprt4XPcaLUKZSsepgju'}})>, <GenericCall(value={'call_module': 'SubtensorModule', 'call_function': 'sudo_hotfix_swap_coldkey_delegates', 'call_args': {'old_coldkey': '5Eh4pudw3qFvDQPFB8NXFoW4afKrEWuuUpbRe2sC3C3RLNZP', 'new_coldkey': '5Cm6SwxqBnjLWAUDiPnwLvYQdzjoGCqzYeUyXD3VJnDeANYn'}})>, <GenericCall(value={'call_module': 'SubtensorModule', 'call_function': 'sudo_hotfix_swap_coldkey_delegates', 'call_args': {'old_coldkey': '5Ca4FEpusku6CoNbXEhPJ3bNWwfmS1bXxo9UkRVbNmWXsrkG', 'new_coldkey': '5GgbNYEqJVxJcFtApHBsbxqRs5VfZHZrXkXRfNXWnLdJyhog'}})>, <GenericCall(value={'call_module': 'SubtensorModule', 'call_function': 'sudo_hotfix_swap_coldkey_delegates', 'call_args': {'old_coldkey': '5DSH84Gki91Pu3H96sAiZcWVExPdWzy3hZjJP2AYahRY85DY', 'new_coldkey': '5Fo1vwxJykLub26aWBUpJo6VPKLFZtwmsYK5deGsPT9eByxJ'}})>, <GenericCall(value={'call_module': 'SubtensorModule', 'call_function': 'sudo_hotfix_swap_coldkey_delegates', 'call_args': {'old_coldkey': '5H6ucAbPp1nmMVJ6nnKDp55W4c4i8pmgXs8Ldx3pFvLm54Fr', 'new_coldkey': '5EcZsewZSTxUaX8gwyHzkKsqT3NwLP1n2faZPyjttCeaPdYe'}})>, <GenericCall(value={'call_module': 'SubtensorModule', 'call_function': 'sudo_hotfix_swap_coldkey_delegates', 'call_args': {'old_coldkey': '5Fxu8f8SQcmVBoDYMDQG1nsgysfv7Tnh8ESdRXxLHYrhx3M6', 'new_coldkey': '5EcSjbTxv49sPf53Xroemp7VRb6m4eaXvLcxAk4oqEj32Uot'}})>, <GenericCall(value={'call_module': 'SubtensorModule', 'call_function': 'sudo_hotfix_swap_coldkey_delegates', 'call_args': {'old_coldkey': '5EU9rXFnwVhy4NTi4twdvaWndp5ZfN61cDpodZNQn22xoxai', 'new_coldkey': '5HTJAKQ93fZy9Er3CaPVrqfdyd1Z3ngZi1nfGJhjgJgq5ZJM'}})>, <GenericCall(value={'call_module': 'SubtensorModule', 'call_function': 'sudo_hotfix_swap_coldkey_delegates', 'call_args': {'old_coldkey': '5DX7xyBVnL7WAsnozRSJYsSxPEftEhiB5F9Uwm2BDspx2XzT', 'new_coldkey': '5D7ZghXBKPu72KsE7cjKmsboCd2geZuxyYDXVJ8AcGMpJWup'}})>, <GenericCall(value={'call_module': 'SubtensorModule', 'call_function': 'sudo_hotfix_swap_coldkey_delegates', 'call_args': {'old_coldkey': '5CDnnExHThSRyQs9xDa67UbaaQwSuC4JReVc9teU6XoukNXn', 'new_coldkey': '5HpYCaxvxpaFUy72F1458n8TL4VpoehqyAvNvW867YUt3mq9'}})>, <GenericCall(value={'call_module': 'SubtensorModule', 'call_function': 'sudo_hotfix_swap_coldkey_delegates', 'call_args': {'old_coldkey': '5Ek8i6vqjobmkEC9kVKEX8mHAj4SKSq4KptzL9zhAAiniRYh', 'new_coldkey': '5HgSPLf9PsBhNksKUBRUxLQQSDCEE1PFaN7JBsqPkf6WButr'}})>, <GenericCall(value={'call_module': 'SubtensorModule', 'call_function': 'sudo_hotfix_swap_coldkey_delegates', 'call_args': {'old_coldkey': '5FgxX45s23sKJcxSaKEc4tLPdnTdMNbEvFzjtSujucBPd5r1', 'new_coldkey': '5E7a4a7QETrNjoZ2SbVSJMaavrQeyTEaHgjBPDUDxBKjUaMZ'}})>, <GenericCall(value={'call_module': 'SubtensorModule', 'call_function': 'sudo_hotfix_swap_coldkey_delegates', 'call_args': {'old_coldkey': '5EsnfoxDQZKXsAMCt6mr1eMcoZ3Yed1MXeoPnMAsMzozhwrY', 'new_coldkey': '5DRdXE9e9wY7MMXDZwerpxAurRDoCefhLAT94oHrFsWMvo2M'}})>, <GenericCall(value={'call_module': 'SubtensorModule', 'call_function': 'sudo_hotfix_swap_coldkey_delegates', 'call_args': {'old_coldkey': '5GjWE7iQjFfSVc4su4UcmuEzhfBE11CSDCnE9UrPmWxuxp8W', 'new_coldkey': '5CUNWEwRBXJbGdDbGKm7cxjX3Jyk6QmREHa1QAgbNM3Fd3Hq'}})>, <GenericCall(value={'call_module': 'SubtensorModule', 'call_function': 'sudo_hotfix_swap_coldkey_delegates', 'call_args': {'old_coldkey': '5CthheBc9wXbB5JAd6EpxMkxHykeuJwYXdPkkD7F5ZBLbwhq', 'new_coldkey': '5EbkWQeYjrVh9hLbQStJmbWvZbfwvHT3Sy5Hn2xK4V6t2pz1'}})>, <GenericCall(value={'call_module': 'SubtensorModule', 'call_function': 'sudo_hotfix_swap_coldkey_delegates', 'call_args': {'old_coldkey': '5FuvRciYTZhDNrRBYNYgfMmdxRLZLVSS5UcuikBWoSkPrpCi', 'new_coldkey': '5D2Cu7ZkDGt6QkhUzT4u6jcvx5hVBqbuyGwPyXwMKKxWHCzZ'}})>, <GenericCall(value={'call_module': 'SubtensorModule', 'call_function': 'sudo_hotfix_swap_coldkey_delegates', 'call_args': {'old_coldkey': '5DtdNsTrZhNBJMqirFFQ42nctxQvN6CDUwxaSNdgeki1XhjF', 'new_coldkey': '5GzjHU5c9Busrc5RrjgRNugLUESQ7RD1Bjo3vyfzhDc9ez1d'}})>, <GenericCall(value={'call_module': 'SubtensorModule', 'call_function': 'sudo_hotfix_swap_coldkey_delegates', 'call_args': {'old_coldkey': '5DhzqbQaua1t5bjyRUpyEqWRVQbhWZkyX1BnZwXMQyCJSBhX', 'new_coldkey': '5CUiCEfkDg8NBfAV7awobA1fCEFhi9aZujNVoBJKYCBB5pUK'}})>, <GenericCall(value={'call_module': 'SubtensorModule', 'call_function': 'sudo_hotfix_swap_coldkey_delegates', 'call_args': {'old_coldkey': '5GmeKhsDUxCxmY2kDqyUZqBoTrGR38WpG7NMdVfvQqrojWNm', 'new_coldkey': '5CPRn1Jd7wwMsny5TB43ViDPiadrtD5Tqy9sEnLVj7XWe2ta'}})>, <GenericCall(value={'call_module': 'SubtensorModule', 'call_function': 'sudo_hotfix_swap_coldkey_delegates', 'call_args': {'old_coldkey': '5FP8V4zuA2g2Mn1vaCcftPMp41uSwvNX6VzzTE7gqQ5t1dAS', 'new_coldkey': '5EFmtbmZ45HMRbrZpppoB1kzArMfNwBYN3KWNguq6jXtmLC3'}})>, <GenericCall(value={'call_module': 'SubtensorModule', 'call_function': 'sudo_hotfix_swap_coldkey_delegates', 'call_args': {'old_coldkey': '5FjfWkowU9TSjQR1gcGSSGm1UpQQA74K2BpFtSmUuAhic4cy', 'new_coldkey': '5FkFySenHCmhqNBHrZzrNAMuyUJ6PahVpe6UH99Z8sVR9R23'}})>, <GenericCall(value={'call_module': 'SubtensorModule', 'call_function': 'sudo_hotfix_swap_coldkey_delegates', 'call_args': {'old_coldkey': '5DSN9Wc19atomSbhHB11QXXPEGh6SYMXq67dZ6pUVpHHzy5f', 'new_coldkey': '5FhEPsssrdCpxfAk6wGCcAHbPLstSQ2kmncXwDdor7qgACk6'}})>, <GenericCall(value={'call_module': 'SubtensorModule', 'call_function': 'sudo_hotfix_swap_coldkey_delegates', 'call_args': {'old_coldkey': '5GRcgmXcc6Rq1UjVUFik4WPqNhagFt2KKDpuujm3TxHAewyx', 'new_coldkey': '5G91gohpiVSfdzaX1172Np7BiMvFvZTgMhXq5fkZ1WS9v2cr'}})>, <GenericCall(value={'call_module': 'SubtensorModule', 'call_function': 'sudo_hotfix_swap_coldkey_delegates', 'call_args': {'old_coldkey': '5ELMqTjeHDdbcLZWrb9T4r3nk9fs7AdAgBu72m3U6HzLc85h', 'new_coldkey': '5DyGvySfSJiEZZHS1nuj4BsjmT2QQ2b3bQHNrZ5sYanGk1uu'}})>, <GenericCall(value={'call_module': 'SubtensorModule', 'call_function': 'sudo_hotfix_swap_coldkey_delegates', 'call_args': {'old_coldkey': '5E7FEwtdKp9fZJy8yDAqGXzuVmU4ruSHoMpUKwfumyZW5j2U', 'new_coldkey': '5Dz2dxSZD1e4qvsUyjE5njDp4D5SiMHj3giQKWzALkfzo8WV'}})>, <GenericCall(value={'call_module': 'SubtensorModule', 'call_function': 'sudo_hotfix_swap_coldkey_delegates', 'call_args': {'old_coldkey': '5GnDkrkbuAbPice6cfpyTjoZx1L7KwPvWLtUr8pGHLcVhHzC', 'new_coldkey': '5HBZzayCxXifibJyUcFrfjzqpdH1pQdqQRiKFaw9v9vLWCzB'}})>, <GenericCall(value={'call_module': 'SubtensorModule', 'call_function': 'sudo_hotfix_swap_coldkey_delegates', 'call_args': {'old_coldkey': '5DARcHyAqDmnirvsWY4tF4kYpMZruLp8JX8jt6tMzWkUZqDn', 'new_coldkey': '5GExxW9zskSKT3mNWYLLu7CZq3AAzxmRNX3mdQhPGez7SDms'}})>, <GenericCall(value={'call_module': 'SubtensorModule', 'call_function': 'sudo_hotfix_swap_coldkey_delegates', 'call_args': {'old_coldkey': '5HZ4oat5QMDs5khU9aFApYMGkQ9xaR97ZjDKtXdgBYSwasiL', 'new_coldkey': '5ES6gtXSxw7fTR36tkcG4CXuzDnrUWBMpKvPBajXTMM13VxQ'}})>, <GenericCall(value={'call_module': 'SubtensorModule', 'call_function': 'sudo_hotfix_swap_coldkey_delegates', 'call_args': {'old_coldkey': '5HNSm3zf4GCYmDZV1Rhr3RDdrBaL2hPH1cvpRREr3uwrvVn9', 'new_coldkey': '5HCCRj6TQR2zyhRuXuya6A7rRHgdv5X6tfySexcvpDpCPn7r'}})>, <GenericCall(value={'call_module': 'SubtensorModule', 'call_function': 'sudo_hotfix_swap_coldkey_delegates', 'call_args': {'old_coldkey': '5EAAy6KZXTvihwnU4Ysthg3d7H5xZCNY5oueN2SXsF9bLaXT', 'new_coldkey': '5CogaRHH5pKAX2swfnNbGukVHGSSqzCTJuSXhj9Lp7ufnqCd'}})>, <GenericCall(value={'call_module': 'SubtensorModule', 'call_function': 'sudo_hotfix_swap_coldkey_delegates', 'call_args': {'old_coldkey': '5DoXJnu12Zxy8puBPemi4t3oXdeHLF7h1vfWGCog4krzxxWY', 'new_coldkey': '5E1viHpUQwSzZQUovFHieKnna1dngV8nK5PgvD3A7t9McGYh'}})>, <GenericCall(value={'call_module': 'SubtensorModule', 'call_function': 'sudo_hotfix_swap_coldkey_delegates', 'call_args': {'old_coldkey': '5ERwsaCKpPx62uKVdf3LbupP3x3xCH1VDwc2NMgANUDJSmTg', 'new_coldkey': '5Fs65zL26vdXnKFCXekrtZiQdrQ5sUKyGNFsdxXRLWFHbBUP'}})>, <GenericCall(value={'call_module': 'SubtensorModule', 'call_function': 'sudo_hotfix_swap_coldkey_delegates', 'call_args': {'old_coldkey': '5HYmN7kCzxNknyUZMSz5pUacP4nVaCqkvEgx7nwhiorpQ5hk', 'new_coldkey': '5Euz1xaQeVASfxQZn33kDgWjxUVnpK6kw3Gdbxm8Mf5Hu7m5'}})>, <GenericCall(value={'call_module': 'SubtensorModule', 'call_function': 'sudo_hotfix_swap_coldkey_delegates', 'call_args': {'old_coldkey': '5GuyoF5nq2nnDQVRdpoBZTvd1EyAJgQ5oyHfbX5yNK2mXeZe', 'new_coldkey': '5ELbnqa8uTqwXPhLnubq3Kk6TGvSPL7rgArU2He9Ng4p2qjN'}})>, <GenericCall(value={'call_module': 'SubtensorModule', 'call_function': 'sudo_hotfix_swap_coldkey_delegates', 'call_args': {'old_coldkey': '5H15EFM8JF3m7354XM4Ge5Sss2GiRnttQW17WyNbkZFzn4qb', 'new_coldkey': '5EFJDS6AwWUW2grA1Jkvm6HTWHVg5L8Y9V6Tnn12n84E3kPH'}})>, <GenericCall(value={'call_module': 'SubtensorModule', 'call_function': 'sudo_hotfix_swap_coldkey_delegates', 'call_args': {'old_coldkey': '5FZhdnuJDC9FrnJekeJrFxDyAK8JQBZbMQVZA1tKzioq1WBF', 'new_coldkey': '5FbFhtzVUsYhPijv7qeoNSgvFjYxoBaTs2h7jrRifUK4fpfF'}})>, <GenericCall(value={'call_module': 'SubtensorModule', 'call_function': 'sudo_hotfix_swap_coldkey_delegates', 'call_args': {'old_coldkey': '5CXUxnjaXF3kHapLz9oAR9xMcJBvZ5bwzXmLns7DbjJmpTMv', 'new_coldkey': '5FEmR5Rf1rX7ZivB2MaGBaYfq9xXAPSz3ttdABzizNmhWq3V'}})>, <GenericCall(value={'call_module': 'SubtensorModule', 'call_function': 'sudo_hotfix_swap_coldkey_delegates', 'call_args': {'old_coldkey': '5F54rRD9dko95PaQTZzKNdeT37LU4G1Tb8EVNcC8QymCXKtR', 'new_coldkey': '5C7bN4CujcFmqekqPs15gz6a5JrsbWNMYV8y4vktmpzpnGU8'}})>, <GenericCall(value={'call_module': 'SubtensorModule', 'call_function': 'sudo_hotfix_swap_coldkey_delegates', 'call_args': {'old_coldkey': '5CG8WgMrbcYjSijfwk6yms7j7qeaGeUAsNJaVytYaE71rJni', 'new_coldkey': '5E7QjW1Rd8K9VFZsnMsg5C7tSuYfc4Urv3Wcsbz2FkDKACt6'}})>, <GenericCall(value={'call_module': 'SubtensorModule', 'call_function': 'sudo_hotfix_swap_coldkey_delegates', 'call_args': {'old_coldkey': '5ER717vhHto7JehfcAUee4nyuJTJ8G6D86Mzi3e3Bac5sThr', 'new_coldkey': '5G9swfhUrBmJYYdtG9oP9eRZ3tafuZbehvSX65Kdzk7xNc5x'}})>, <GenericCall(value={'call_module': 'SubtensorModule', 'call_function': 'sudo_hotfix_swap_coldkey_delegates', 'call_args': {'old_coldkey': '5CqToKhyxxoRNSJmrFbQ4rCQSAs7uwoFMkJMH1JT5YjKodRw', 'new_coldkey': '5F6fNZEUUt8pUvHhzzw8KK1qyc8Deh5Et9waYouZaNSiYrxL'}})>, <GenericCall(value={'call_module': 'SubtensorModule', 'call_function': 'sudo_hotfix_swap_coldkey_delegates', 'call_args': {'old_coldkey': '5Cor7yTDvr8QeLcpVGTbowCRknKL55aatboWd3ywGtvWVcAn', 'new_coldkey': '5GEVt2D7riRvWHF2EhyJNoHmLENTa2g11rsiGp3fV7GV9Z9Z'}})>, <GenericCall(value={'call_module': 'SubtensorModule', 'call_function': 'sudo_hotfix_swap_coldkey_delegates', 'call_args': {'old_coldkey': '5DkcuAVVgRmdcaYGSRAzZE8XsLc8weuNSuQZ9BnsJ8wZwgsk', 'new_coldkey': '5EZS1Qu64CU7C4YdKkxkXxRmSjX9dDSijUoHrDSg6Cwc1sdv'}})>, <GenericCall(value={'call_module': 'SubtensorModule', 'call_function': 'sudo_hotfix_swap_coldkey_delegates', 'call_args': {'old_coldkey': '5FFFgo5RJZfdoz7mZeCe6Wjk4VFnRCPLhwM8FZ8RoMesehWz', 'new_coldkey': '5CJJ7nPwHmZAcDfMJeQyWBckZ7pApaGY6StsRhGxP2FwHNHa'}})>, <GenericCall(value={'call_module': 'SubtensorModule', 'call_function': 'sudo_hotfix_swap_coldkey_delegates', 'call_args': {'old_coldkey': '5F4ZbkNKmW2T6vf46RsjbatzrKhPHA69AeTzrFYoDgfezUmA', 'new_coldkey': '5DiNDMFkoxpzSnf1UkZjpBryxjM7YMcwzvB7PBSG1CNv4wWC'}})>, <GenericCall(value={'call_module': 'SubtensorModule', 'call_function': 'sudo_hotfix_swap_coldkey_delegates', 'call_args': {'old_coldkey': '5CoHuyZB6Rzo8JBjvStw69YfP6J69Sz7LEajd6fc3S5SykWF', 'new_coldkey': '5E4p9LhV8jfCHmvqXiopYbG1FU57fP6hV3u2rYu9gefW4A4L'}})>, <GenericCall(value={'call_module': 'SubtensorModule', 'call_function': 'sudo_hotfix_swap_coldkey_delegates', 'call_args': {'old_coldkey': '5DDTvwWmKgQBRvb1TddsHXXd6QQAv8kJeKmdE64wMokRWgdk', 'new_coldkey': '5F3qGe7o5ux873PX8MAq2t18npcnQV6QkrVXY8cykc5MT6Cf'}})>, <GenericCall(value={'call_module': 'SubtensorModule', 'call_function': 'sudo_hotfix_swap_coldkey_delegates', 'call_args': {'old_coldkey': '5HmHGSedXykzDKoYh8FCDpkqvfaXjjDnur6T4YFo9J9ZYUPL', 'new_coldkey': '5HjbyryyMpULN69D1H9oaxrbj5cmFxWMDNob5aamvgQF3ugU'}})>, <GenericCall(value={'call_module': 'SubtensorModule', 'call_function': 'sudo_hotfix_swap_coldkey_delegates', 'call_args': {'old_coldkey': '5DLTsXD7RVyWeDy7N5N6Zgz5tWPY6m6i7zcsnhEhDfwuAfwC', 'new_coldkey': '5Hfy8MFZSz7zW3a94CRLSiMYEuVDGm5CWSaJ6sRnr8q2Y9u5'}})>, <GenericCall(value={'call_module': 'SubtensorModule', 'call_function': 'sudo_hotfix_swap_coldkey_delegates', 'call_args': {'old_coldkey': '5H9dvjuPzjM4VCQMYSYhGZYjBRGC7iuUKyGWMLXDqHoWexhn', 'new_coldkey': '5DvECufWz5Pc8GtZs3qkz3sTPonDKpvvcKWgyt46tb7F3f6g'}})>, <GenericCall(value={'call_module': 'SubtensorModule', 'call_function': 'sudo_hotfix_swap_coldkey_delegates', 'call_args': {'old_coldkey': '5G1hAuusbp7WWpMG6s5u3Ca9W8VPcWbMF8RqP779RYGwkmQo', 'new_coldkey': '5HjivRKGf2y55eQNJXZXRmxKnQ4LsiswYoes9VuPdQDBTuZX'}})>, <GenericCall(value={'call_module': 'SubtensorModule', 'call_function': 'sudo_hotfix_swap_coldkey_delegates', 'call_args': {'old_coldkey': '5HmfpzKq6hWLxxUoCoEAsMTD41DtKCqZiP5BvBqYDJzjoN8P', 'new_coldkey': '5FHfABtAo5nfhbZLaUnC6obHBsAL7kANSTw3zuhFaHxYF2X1'}})>, <GenericCall(value={'call_module': 'SubtensorModule', 'call_function': 'sudo_hotfix_swap_coldkey_delegates', 'call_args': {'old_coldkey': '5D2HZ4AjRJaJivELXUxRUtAQSNf2YtgP9SBttwLNpK7gLwqL', 'new_coldkey': '5CtWpxb4nV8Db8kLSGzvWfmYYQ6xR31eq81TYxevg4fsa8u6'}})>, <GenericCall(value={'call_module': 'SubtensorModule', 'call_function': 'sudo_hotfix_swap_coldkey_delegates', 'call_args': {'old_coldkey': '5HNKV8EY1AF32MpvhtQJkW3kFRat4MWBApqAkwm3ZTF5GfmB', 'new_coldkey': '5FLGMrWwFdGM5MCLw2ddU2qP1vwJT6CfN9nFBVs3kzmFbVui'}})>, <GenericCall(value={'call_module': 'SubtensorModule', 'call_function': 'sudo_hotfix_swap_coldkey_delegates', 'call_args': {'old_coldkey': '5FALMgPEQRbcH3sKx5kzYtmWo9vTXyGTFVJncUhK6V2gAgnz', 'new_coldkey': '5FWiVKzJDsdXvA3xebaTmu79S2yuSE2zKvUZq1PB42GvcJdy'}})>, <GenericCall(value={'call_module': 'SubtensorModule', 'call_function': 'sudo_hotfix_swap_coldkey_delegates', 'call_args': {'old_coldkey': '5DUAPzHt87nKMEX8L7WNWtz7RJZWje2jk7gyJpCwsNpf3GTa', 'new_coldkey': '5CiHBwE2YSDWYnmNiZe4WnMSAm6e6jfiYYRbBfrQbyYw7dpb'}})>, <GenericCall(value={'call_module': 'SubtensorModule', 'call_function': 'sudo_hotfix_swap_coldkey_delegates', 'call_args': {'old_coldkey': '5GpQYwztK2hj9YEUdJYmTH4GMcLSjiF99Gh4mmfdtxXBtnho', 'new_coldkey': '5G9Eg8aYoeUaucD9RxNGXbPximQgdRxThL2FJ7e755p1DGuc'}})>, <GenericCall(value={'call_module': 'SubtensorModule', 'call_function': 'sudo_hotfix_swap_coldkey_delegates', 'call_args': {'old_coldkey': '5DZvTbyX23yL2n8Cu6mypXXuT3V9P2GtCkRURWXNteRBmEQS', 'new_coldkey': '5GEY8gyiSQfxfSeUgipxpYXD9TkqCjHki7K5tfjjRqHgVKBk'}})>, <GenericCall(value={'call_module': 'SubtensorModule', 'call_function': 'sudo_hotfix_swap_coldkey_delegates', 'call_args': {'old_coldkey': '5FWp8YGdXUrRMziZ2oc4t3vJGE3bLvuvp5FZ6UZXEKMoVaNS', 'new_coldkey': '5CfrCFSXb5UsLmjbVowQEALwZLDvUvuzH9VkmKW4DC9H5DoC'}})>, <GenericCall(value={'call_module': 'SubtensorModule', 'call_function': 'sudo_hotfix_swap_coldkey_delegates', 'call_args': {'old_coldkey': '5CcFre8CnsQJvE8UJ5AapsjZwccPHqnccVpba3fwk15XwaRJ', 'new_coldkey': '5HYYUEgPxK5AkZeN4dmVjxjTLh7Xu3FT3FoC9h6UFREpSjsW'}})>, <GenericCall(value={'call_module': 'SubtensorModule', 'call_function': 'sudo_hotfix_swap_coldkey_delegates', 'call_args': {'old_coldkey': '5HdQeTPeWWYaCWBGJUnwgY7b1gEzKHYj5KG5Q36e4WvZHcEV', 'new_coldkey': '5CDWLDC5bcNQ982Mw4shCAt19rAkd5ocBq8zgtVsp8RZc1HJ'}})>, <GenericCall(value={'call_module': 'SubtensorModule', 'call_function': 'sudo_hotfix_swap_coldkey_delegates', 'call_args': {'old_coldkey': '5CkLkM1LXFEfASSit6Dp4rcrMTp9Sb5xyy5pALazYK7XcxnB', 'new_coldkey': '5CoMgHTkpS24aV6J8BMxVaLnbm88FYkhYHVGMNhcY28PUoUK'}})>, <GenericCall(value={'call_module': 'SubtensorModule', 'call_function': 'sudo_hotfix_swap_coldkey_delegates', 'call_args': {'old_coldkey': '5DyJbCz74QbBWWcvconp9AZ9L7goAVBd7a6wdrBS358KLyGM', 'new_coldkey': '5DsfCP1VEvPEDSobTLERz26WEY5NMWFZm2uVsaZZo4r4PQUm'}})>, <GenericCall(value={'call_module': 'SubtensorModule', 'call_function': 'sudo_hotfix_swap_coldkey_delegates', 'call_args': {'old_coldkey': '5FpVWpRM9RK743A4mJWUjX58UXCFeuupEyd2TMqeBCsNZ1nX', 'new_coldkey': '5FzrpRY2VCxCUcapRPjU9Pw8jbpgmpNQFav5qCFaYep9LXm6'}})>, <GenericCall(value={'call_module': 'SubtensorModule', 'call_function': 'sudo_hotfix_swap_coldkey_delegates', 'call_args': {'old_coldkey': '5CZb6TWY3wbeRBY7j2ZH3CcwisEYwcfjJWiV1Wco4YkduuWi', 'new_coldkey': '5HbFWUAqg5u2s76Hmjnk4wNSnMKcvHwL5fU4bq1JupMyBwWz'}})>, <GenericCall(value={'call_module': 'SubtensorModule', 'call_function': 'sudo_hotfix_swap_coldkey_delegates', 'call_args': {'old_coldkey': '5DWdyhzKLJyJKRfRfXjNSj4iLJtfRpJXeGVr5D19KciuyXuv', 'new_coldkey': '5GxhFPS2aaTrvnrW3ba25wWNU9HoTUVrGCqPJGNn6HpHQbbA'}})>, <GenericCall(value={'call_module': 'SubtensorModule', 'call_function': 'sudo_hotfix_swap_coldkey_delegates', 'call_args': {'old_coldkey': '5HGiypJkEuEm8x1i1ocqiqKqH2WLPJtyUaP2T58Yy9igfoVd', 'new_coldkey': '5FQnXs1GzD4sdNhKvsmd1kNRQohAJNwK32nrGeK3M5dKz4D2'}})>, <GenericCall(value={'call_module': 'SubtensorModule', 'call_function': 'sudo_hotfix_swap_coldkey_delegates', 'call_args': {'old_coldkey': '5CswhyA1F8xh7ZstXfFkcgn1MAL2WoGBFokUV7syrYGb5vW9', 'new_coldkey': '5Hgc94zQHcrK8Hd3FgCVceMxZ6iA4uXTpdry3rZf6s9kRaoE'}})>, <GenericCall(value={'call_module': 'SubtensorModule', 'call_function': 'sudo_hotfix_swap_coldkey_delegates', 'call_args': {'old_coldkey': '5G1Jwicv2Thbxp75wyM1ZyeJJnPELVzRCvXFsziLr3dpcukJ', 'new_coldkey': '5DACtBvhqqXYq8jsxvxuLE3Rt4u4pdEyfQFczJpcT6nPcaeG'}})>, <GenericCall(value={'call_module': 'SubtensorModule', 'call_function': 'sudo_hotfix_swap_coldkey_delegates', 'call_args': {'old_coldkey': '5H49qbc7o1QBrqvpnRL13t7yXgVR8mE6WB9FnXuy1ZRqk3xC', 'new_coldkey': '5GbcXUiCWBDdgFTBKPQUh5aVjqZr2mgfMPPUmYxkSq6nGaFq'}})>, <GenericCall(value={'call_module': 'SubtensorModule', 'call_function': 'sudo_hotfix_swap_coldkey_delegates', 'call_args': {'old_coldkey': '5FLfihkJkuCKFsjnNqfvgQKxBZJACYBcWnBLEKKYwradSf3g', 'new_coldkey': '5CQ415eHKkDknkSf3VdnnrncvGH8F6nBZTwySmZCzA4UTCTM'}})>, <GenericCall(value={'call_module': 'SubtensorModule', 'call_function': 'sudo_hotfix_swap_coldkey_delegates', 'call_args': {'old_coldkey': '5CcWpkSzbfDPCBqwF2jagzepQDXkAypqb5qPPkg1Am2afPor', 'new_coldkey': '5FBgrohFQKuwp164epP3LXbQPSpRYu3SKq2cKFfFQewQzSqt'}})>, <GenericCall(value={'call_module': 'SubtensorModule', 'call_function': 'sudo_hotfix_swap_coldkey_delegates', 'call_args': {'old_coldkey': '5HL2am1utE7GGhpdpSHMWDwYCJy5JGJLgvaGcSmpqZqhdpLN', 'new_coldkey': '5Hp8CRWgczPHV2N7apJX5dCypFubX6Ptov4pL6mcmJZtQZQo'}})>, <GenericCall(value={'call_module': 'SubtensorModule', 'call_function': 'sudo_hotfix_swap_coldkey_delegates', 'call_args': {'old_coldkey': '5C7RyuGubCowQvtqhh2o2ZtMS7s53ayfKGYv7yit7zqtroHp', 'new_coldkey': '5DXCTBN6dqt1cSxDFWxtkHWnJcL5VdKgDVPzBygihCqq3HGD'}})>, <GenericCall(value={'call_module': 'SubtensorModule', 'call_function': 'sudo_hotfix_swap_coldkey_delegates', 'call_args': {'old_coldkey': '5HE5J9rfC3g6pV9FhQHevT6xPJxk4xgNoEFeiVewz2onsQPr', 'new_coldkey': '5Hdco2zty3GYYNcLHJyMb3qKbsMPeYnGT87YvjppXogNczVt'}})>, <GenericCall(value={'call_module': 'SubtensorModule', 'call_function': 'sudo_hotfix_swap_coldkey_delegates', 'call_args': {'old_coldkey': '5D24pqY3XiEeL8fXi3t5M2CLMNsRERsCoeh3c8jCPXS3zfLb', 'new_coldkey': '5HpHbavJK2CJNPXaHXGcGfzJ9eMpDDbAdw43YBscNVDLNn3i'}})>, <GenericCall(value={'call_module': 'SubtensorModule', 'call_function': 'sudo_hotfix_swap_coldkey_delegates', 'call_args': {'old_coldkey': '5HZCSuv7mkykaXcJ1k8Kms3oq18fqEY6wwW2y91zHYWSHh9r', 'new_coldkey': '5EcfssmYZueyBtPbbHJieyWqFhwbLok2TTVVty5uFsE3uyAA'}})>, <GenericCall(value={'call_module': 'SubtensorModule', 'call_function': 'sudo_hotfix_swap_coldkey_delegates', 'call_args': {'old_coldkey': '5FgbbsNucninQLDtPBc1k6WfRN4SBMiPqThq5SSppkzhnVc9', 'new_coldkey': '5HE4wkXKVT5vmSaKKiXTMRmu2tNDti9Hx4J6AashiehcW5vq'}})>, <GenericCall(value={'call_module': 'SubtensorModule', 'call_function': 'sudo_hotfix_swap_coldkey_delegates', 'call_args': {'old_coldkey': '5ENyFZZAgVo5NMmCyho1Le8cKrHp6aCX1Z9gXeSYAfvAGKSD', 'new_coldkey': '5DPGgdrBvpnykhfYcoRefPXiNe6YPo5XsY77Rbt8gjY5HfuU'}})>, <GenericCall(value={'call_module': 'SubtensorModule', 'call_function': 'sudo_hotfix_swap_coldkey_delegates', 'call_args': {'old_coldkey': '5C7a1BPtuiABTAGEmiNNkHyvA58J1kf31ToVy1JHsfu8LTqz', 'new_coldkey': '5FjacWntLV1zWZFMRiGmhmE66uJwMQ3aDwnxz4HNEkuu7FnX'}})>, <GenericCall(value={'call_module': 'SubtensorModule', 'call_function': 'sudo_hotfix_swap_coldkey_delegates', 'call_args': {'old_coldkey': '5CXEaZszNqGvWur9f15hdVvnA84ojymZBqwhe94jiN8W5Vr4', 'new_coldkey': '5DNn9ZMCTRL7KVvhAqnATnPbFf7StTDT3yf2LKoVNoK5X4hB'}})>, <GenericCall(value={'call_module': 'SubtensorModule', 'call_function': 'sudo_hotfix_swap_coldkey_delegates', 'call_args': {'old_coldkey': '5ECsNux5TeSAdJCYWgyNYYxMLD9qN9mneziNThx82PRM9W7r', 'new_coldkey': '5CqichJPQkVAigfEohnvVDEUUWZjsevBjmd2RMeLdUyoT5nK'}})>, <GenericCall(value={'call_module': 'SubtensorModule', 'call_function': 'sudo_hotfix_swap_coldkey_delegates', 'call_args': {'old_coldkey': '5GTLLrBC1ekj4tKCUaVm3zHd88ie8Y6GdiX5bKgwBgikPkWQ', 'new_coldkey': '5CqSeScXXkWDbvhXhND51PA96rUn8ZCXDxRg1wNnAn43YUpp'}})>, <GenericCall(value={'call_module': 'SubtensorModule', 'call_function': 'sudo_hotfix_swap_coldkey_delegates', 'call_args': {'old_coldkey': '5Dkk7NDdMkJzC2xcMVY6jtwYiUGYqYHqncVd3YRLrCgCCj2C', 'new_coldkey': '5DCRgChnLgQTVJYcUvXc4BvLpoh2BEJRKB5pFGrprhkAYoFo'}})>, <GenericCall(value={'call_module': 'SubtensorModule', 'call_function': 'sudo_hotfix_swap_coldkey_delegates', 'call_args': {'old_coldkey': '5DqZd4n7Mc5iUzGBJeQEmZBnMnd4EswX1KKva4s28oYna7Rj', 'new_coldkey': '5CAXk8HNekSZTkpqjV7e5cMFSgyDPphGCG8p5NYxkYeFHyhb'}})>, <GenericCall(value={'call_module': 'SubtensorModule', 'call_function': 'sudo_hotfix_swap_coldkey_delegates', 'call_args': {'old_coldkey': '5CJmUnvySUFYZcMYcjFh3m8WVksNYMHxBSZwFWWVvDuBUYKf', 'new_coldkey': '5FW5SqGrVLGu1gVfZMa5xawsWngwQTSpFGY8MPKpCgMZcdNi'}})>, <GenericCall(value={'call_module': 'SubtensorModule', 'call_function': 'sudo_hotfix_swap_coldkey_delegates', 'call_args': {'old_coldkey': '5HK3ooguZhxSLCD5dZEChFKoFzvfzZ6mmeKUFFKchpaVuqAe', 'new_coldkey': '5H3dmLkniH5HjZzzS1WqRJG7dNdVRxudutRhqFbaA8MiFVyR'}})>, <GenericCall(value={'call_module': 'SubtensorModule', 'call_function': 'sudo_hotfix_swap_coldkey_delegates', 'call_args': {'old_coldkey': '5E5DA7kefeNHojB9MCF9XBmTQJeEcgENVKLCGpARKtACGVQH', 'new_coldkey': '5FNg2iTmkRriCKbxjXai2ohhKw5LcAQtJ1JKQguHyFkS2bZ1'}})>, <GenericCall(value={'call_module': 'SubtensorModule', 'call_function': 'sudo_hotfix_swap_coldkey_delegates', 'call_args': {'old_coldkey': '5GzzKAmqJRbzYWRij3KrRbfDwYEZYeDMxeYhpb7BS9EhC1rG', 'new_coldkey': '5DUvXjGaouB3WVWq9jJJcuKaAUCPta9EynwMxbCUHVmS8fhG'}})>, <GenericCall(value={'call_module': 'SubtensorModule', 'call_function': 'sudo_hotfix_swap_coldkey_delegates', 'call_args': {'old_coldkey': '5D7RtQtUkqXZRphLWtVHnaMynoaN8SuEZdf2EA1mF3MQGLSb', 'new_coldkey': '5DRTcZmG25o4zoLYAgEqo9HgYjHbAT7beE5VXNZxvQ6wm77P'}})>, <GenericCall(value={'call_module': 'SubtensorModule', 'call_function': 'sudo_hotfix_swap_coldkey_delegates', 'call_args': {'old_coldkey': '5G9ehNLHJ7gGQe9MVZj2fiPDzuMrppW6mFSFJfJhJQMBnccY', 'new_coldkey': '5CfYtbLf4s1VAsB2b51hnADwoSLtNWVsMxNrgdhZHEVb9fpn'}})>, <GenericCall(value={'call_module': 'SubtensorModule', 'call_function': 'sudo_hotfix_swap_coldkey_delegates', 'call_args': {'old_coldkey': '5EeBPRWCreFgr82pjyKSqpeLFXZxwvXyEDWz5M3hykrqv8fi', 'new_coldkey': '5FnHXzo4aUgW6BmxUYHqgWf4q9UUz2viknzHUT5sJEgZt7jM'}})>, <GenericCall(value={'call_module': 'SubtensorModule', 'call_function': 'sudo_hotfix_swap_coldkey_delegates', 'call_args': {'old_coldkey': '5FxHzukVa9vc5u7yj441ugxAKwPHTc7wqi2iSFwnxS8isrox', 'new_coldkey': '5CXpVMGaD8SHYwYn4p2Vo4i1LtwQXiyAR45pSbYSC9jU9EYv'}})>, <GenericCall(value={'call_module': 'SubtensorModule', 'call_function': 'sudo_hotfix_swap_coldkey_delegates', 'call_args': {'old_coldkey': '5GRc4GSb8ndN5HKbk32ztdnDZKbq67kKwQRouxKPjMdZZdRW', 'new_coldkey': '5D2DvfDXiqAacdeKLNcGS7n8PYyYemr328FbNi4e5qT6QGaC'}})>, <GenericCall(value={'call_module': 'SubtensorModule', 'call_function': 'sudo_hotfix_swap_coldkey_delegates', 'call_args': {'old_coldkey': '5HBHfXVNT88XND83t5GRS3Z8iR6JZnJcJSz4sNM9V8BEZnEJ', 'new_coldkey': '5H9ZikDhdLBCfH94NVdNoXzHsoYMNjcWu12wPBaPXSHmyPrY'}})>, <GenericCall(value={'call_module': 'SubtensorModule', 'call_function': 'sudo_hotfix_swap_coldkey_delegates', 'call_args': {'old_coldkey': '5Gx3iJ6pQK6W3bdLftRSqF4wcCWVPKV55UdcuSVhD4aReCeG', 'new_coldkey': '5HeWmiG9oJb5uFnQoB9Ea3JFD7yUitXAVPoigda8giUoDfnR'}})>, <GenericCall(value={'call_module': 'SubtensorModule', 'call_function': 'sudo_hotfix_swap_coldkey_delegates', 'call_args': {'old_coldkey': '5DceCVDqkVEpmHsHn9TVzfQFyBXt45g4Wtq9N44CZc32PdRj', 'new_coldkey': '5GKzo4uHox8Nrk1PxXsNuXJ2Ld7JWTHUHx7hLK94MbWgV9Sn'}})>, <GenericCall(value={'call_module': 'SubtensorModule', 'call_function': 'sudo_hotfix_swap_coldkey_delegates', 'call_args': {'old_coldkey': '5FBzK8jAJGJJyVHzdimA1Eyiq6gnoUedCbZsiaAY75pPe7nk', 'new_coldkey': '5CJdDzk2AX7dmkf6HWry49jYHiPDpLSGqwPJhRpDwXKG3i7U'}})>, <GenericCall(value={'call_module': 'SubtensorModule', 'call_function': 'sudo_hotfix_swap_coldkey_delegates', 'call_args': {'old_coldkey': '5HEHmpNkKFuTKb2FU6DJqYprsY1CVUodQpgYiym7wva64HmB', 'new_coldkey': '5GxtPoPTrSjU1mbjWRtTpzrPpJ9mb3sKEcKYPAnyB3ipAB4c'}})>, <GenericCall(value={'call_module': 'SubtensorModule', 'call_function': 'sudo_hotfix_swap_coldkey_delegates', 'call_args': {'old_coldkey': '5HTfxYzAnFaRKFut1WZH8XtBphVSj7KAYQ4yMzqvZSXWfyFG', 'new_coldkey': '5Dw7vAsQGLTgL7PUETAbaLyhHDE7voediicsiPh1nxTTQoJ4'}})>, <GenericCall(value={'call_module': 'SubtensorModule', 'call_function': 'sudo_hotfix_swap_coldkey_delegates', 'call_args': {'old_coldkey': '5Ctwns1p4UNCvESjVkqcvn8HAFEgXADPigLnN5tv1pQeVGH5', 'new_coldkey': '5E812kkV5ZWavVi9N5tL7mwQrtfBCcj7XXktNQrB5bgBu6Aq'}})>, <GenericCall(value={'call_module': 'SubtensorModule', 'call_function': 'sudo_hotfix_swap_coldkey_delegates', 'call_args': {'old_coldkey': '5GqMtSsjMKsrcMnhQTJi4yyTS6XDS47PLy6vYioNWTdgpUWJ', 'new_coldkey': '5Fc4JtKKCQ6iCmBAEdxbnJ3Liu81qCgt7bxCR6sJq9JQKeZH'}})>, <GenericCall(value={'call_module': 'SubtensorModule', 'call_function': 'sudo_hotfix_swap_coldkey_delegates', 'call_args': {'old_coldkey': '5G9Qm8fWx5MFQ6GrXyqXbiZr9PaJouYJNYzbhJsFscXEV8Rg', 'new_coldkey': '5Ec85FDXq2bfWvfjwdjifMycXCcJe7rJfm9WG4YkWTbk9w1Q'}})>, <GenericCall(value={'call_module': 'SubtensorModule', 'call_function': 'sudo_hotfix_swap_coldkey_delegates', 'call_args': {'old_coldkey': '5CaW1fvjxjbgevmWcXggZUfocxbKPF8MqFsVFmYgcQUJ9y33', 'new_coldkey': '5FCKdrQhS9jikJW1KkBNBrEwjq733VGbEFL8K9xJQ3p3jrY8'}})>, <GenericCall(value={'call_module': 'SubtensorModule', 'call_function': 'sudo_hotfix_swap_coldkey_delegates', 'call_args': {'old_coldkey': '5Gsm3etzwwJDSvv1F1Hq29uj5KQWpFfd7HBAvUAq7LGjkCtX', 'new_coldkey': '5CJ4fNN3vPHPKU7GeDdUVHqrdfpYcakA1eH62BqehavSuPw9'}})>, <GenericCall(value={'call_module': 'SubtensorModule', 'call_function': 'sudo_hotfix_swap_coldkey_delegates', 'call_args': {'old_coldkey': '5FCwQ83R6MpZFHntgLmPrDKb3juCdgrAj7iWeFwdv5naKiat', 'new_coldkey': '5HDijFsM1oSXp6uewWNLr9XXdyr6TDx7k3V8XfVRUpUaAhsA'}})>, <GenericCall(value={'call_module': 'SubtensorModule', 'call_function': 'sudo_hotfix_swap_coldkey_delegates', 'call_args': {'old_coldkey': '5EspT5sJwLe7yTAvMfWgRxBChuCfBygV2stebnCu3HAvEg9T', 'new_coldkey': '5DnSqpyLaGJ35cbrEXfaDKGWdihRFh9439Q6pKf7yswhxVzQ'}})>, <GenericCall(value={'call_module': 'SubtensorModule', 'call_function': 'sudo_hotfix_swap_coldkey_delegates', 'call_args': {'old_coldkey': '5EJRDNGGnSf3YfpUz6xrM3gkvLhNPDJ7QcK2mK48gZUEGH3r', 'new_coldkey': '5HjCynhYoYhUzC7RHkKrdq9VfykXCkZPQwZhfeeK3CF5M9p5'}})>, <GenericCall(value={'call_module': 'SubtensorModule', 'call_function': 'sudo_hotfix_swap_coldkey_delegates', 'call_args': {'old_coldkey': '5EAZ5d6Mi9KwngzSsDLTd9xGktn7s8hjLY1jXTK2XMBiB8VW', 'new_coldkey': '5G759yU31a9rLvSs9Z1nj2XnhGJ817E39QqRHk9UFffmBk2B'}})>]}})>, 'weight': {'ref_time': 0, 'proof_size': 0}}})>, 'threshold': 2, 'other_signatories': ['5FPJHiZnj5wk2hGxer7xwBJi91WNwsssYeVspq7Sd9mhwyxt', '5GmX9ZESxY6b8N2LxWKnaYH3VmbmPRjM4iu5f8oRs78R2Hzi'], 'max_weight': {'ref_time': 0, 'proof_size': 0}, 'maybe_timepoint': None}, 'nonce': 17, 'era': '00', 'tip': 0, 'asset_id': {'tip': 0, 'asset_id': None}, 'signature_version': 1, 'address': '0xacc85abe267657a12aa2795fffb54618b92e83fb64f5930ae3a4c7a17513215b', 'call': {'call_function': 'as_multi', 'call_module': 'Multisig', 'call_args': {'call': <GenericCall(value={'call_module': 'Sudo', 'call_function': 'sudo_unchecked_weight', 'call_args': {'call': <GenericCall(value={'call_module': 'Utility', 'call_function': 'batch', 'call_args': {'calls': [<GenericCall(value={'call_module': 'SubtensorModule', 'call_function': 'sudo_hotfix_swap_coldkey_delegates', 'call_args': {'old_coldkey': '5CQ2X83y5HijGX5h2HaA3ecYZo4nRXxS2XgN8TgLwkEUkXvW', 'new_coldkey': '5GP7fVa4tyiXkBpoxquJ2Hua19nvcqTE7FpyNNdpgBp741qk'}})>, <GenericCall(value={'call_module': 'SubtensorModule', 'call_function': 'sudo_hotfix_swap_coldkey_delegates', 'call_args': {'old_coldkey': '5EA1W6o97C6G8uhawC5MxHrYtiE7bTSsrA9Rg2uRbb4eWUF8', 'new_coldkey': '5Ext1B4v7mJAsxQrHmMxU1oQxbTnXkg4j6h5wGHHZCYNwULC'}})>, <GenericCall(value={'call_module': 'SubtensorModule', 'call_function': 'sudo_hotfix_swap_coldkey_delegates', 'call_args': {'old_coldkey': '5ES7RB2Qm45CwMNDZkTvfF2LxXPRtjzAdwHafrocftsTt1xy', 'new_coldkey': '5Gn9nv7Le5XYitfP86bdDuc92fUtcPGQtDM6vCcZur4fwUpy'}})>, <GenericCall(value={'call_module': 'SubtensorModule', 'call_function': 'sudo_hotfix_swap_coldkey_delegates', 'call_args': {'old_coldkey': '5Ct6PtDeCKEJZ9D73HH5uhA72PgaJyiEhwp6Gvkx6QhCjwK8', 'new_coldkey': '5DAakJ2SWBQ2qavWEJvdNUv8176Re82Wgrm3hy7MN55oTauo'}})>, <GenericCall(value={'call_module': 'SubtensorModule', 'call_function': 'sudo_hotfix_swap_coldkey_delegates', 'call_args': {'old_coldkey': '5H91AtorYYPpbdxpQoyy9TkL7BB1W66vQ9FB34QMPdyQwSPN', 'new_coldkey': '5E1a9ws6KvP3rhheKeF6ds3A1yjFznC4G9zw1x6fSwVEvNk1'}})>, <GenericCall(value={'call_module': 'SubtensorModule', 'call_function': 'sudo_hotfix_swap_coldkey_delegates', 'call_args': {'old_coldkey': '5F1YYBuAabSr8f7rRoaonzPuAE8m1mvgoQpbc5ZX2SAuofMD', 'new_coldkey': '5CzBrsJmio2Fj6bFg7Y7rg4vXKYwC3UkoF7FJ4EaMENzm2q2'}})>, <GenericCall(value={'call_module': 'SubtensorModule', 'call_function': 'sudo_hotfix_swap_coldkey_delegates', 'call_args': {'old_coldkey': '5Gpbq4osa54zba3ku4Tz2FY8tB9v5xQfmYos9pLEJwKXVGoA', 'new_coldkey': '5GEAb9K1PMCQgzJpdLGAWSCKxS3EDKAFUeopbWnGt6ZRJ7Cn'}})>, <GenericCall(value={'call_module': 'SubtensorModule', 'call_function': 'sudo_hotfix_swap_coldkey_delegates', 'call_args': {'old_coldkey': '5GzitDU7dqcf4X7zWugBbPcbut3ivtLGt4wkSsUoFeyQhFy7', 'new_coldkey': '5FnmbYCQa28yivmxcxuKaeJrAb2NuCV8EYchodehE3kpnRjS'}})>, <GenericCall(value={'call_module': 'SubtensorModule', 'call_function': 'sudo_hotfix_swap_coldkey_delegates', 'call_args': {'old_coldkey': '5FqLxuTPnf7Kseiy4mztKdZJBj9SzjGotagN9mEacLNwhKMH', 'new_coldkey': '5DU9nVMNsUqaSZTp8UkQ2dNp6aTQAaBYdQeAapfX8JDmwxFY'}})>, <GenericCall(value={'call_module': 'SubtensorModule', 'call_function': 'sudo_hotfix_swap_coldkey_delegates', 'call_args': {'old_coldkey': '5CJELTS2zQpg8e98bDjiSHy5WfwQV2zqVAu4MrCBoYYCbcBm', 'new_coldkey': '5FFXXq9KN2BYZyydt15D2HoY5UhEHCnVFVsDstV8J6hTnYRM'}})>, <GenericCall(value={'call_module': 'SubtensorModule', 'call_function': 'sudo_hotfix_swap_coldkey_delegates', 'call_args': {'old_coldkey': '5CVNXt5geoYxdzFefYA58HGgzRHfHaWioe5DtR6zPVqyQzPC', 'new_coldkey': '5GH1UG25Qrkq5D3Jdq1xtEJ2nwPK17a94RmFBBJEn7hG3V5X'}})>, <GenericCall(value={'call_module': 'SubtensorModule', 'call_function': 'sudo_hotfix_swap_coldkey_delegates', 'call_args': {'old_coldkey': '5Ct64HXTt77uibdNGeFPrezG9iQ3Ut12ZyQj4g2KSBrXrBCE', 'new_coldkey': '5GZSAgaVGQqegjhEkxpJjpSVLVmNnE2vx2PFLzr7kBBMKpGQ'}})>, <GenericCall(value={'call_module': 'SubtensorModule', 'call_function': 'sudo_hotfix_swap_coldkey_delegates', 'call_args': {'old_coldkey': '5DV9hzhHbJNQj41no6z3VYvDJXWuCkFAqW6XWyEGTmyntc6P', 'new_coldkey': '5HjPGgP3yR1woFHVp5KtUDTbtfpjCiaSt5xdhetUcZaL4gHi'}})>, <GenericCall(value={'call_module': 'SubtensorModule', 'call_function': 'sudo_hotfix_swap_coldkey_delegates', 'call_args': {'old_coldkey': '5H93Hgo6bZmazTivvYJML1GDnkmpaWTEreqcoXfB57j1ZMC8', 'new_coldkey': '5EjvHWVi4Ztw5NbbWNaucF1a21yZyRaAMbTWpX3GiLa3eECC'}})>, <GenericCall(value={'call_module': 'SubtensorModule', 'call_function': 'sudo_hotfix_swap_coldkey_delegates', 'call_args': {'old_coldkey': '5HTwrmCTuehiauv8ua7v4LsQ2mYuCP9Nt7VQYPrmNKrVhxCd', 'new_coldkey': '5Dw6oJmgwg4sjGC1Q6HYVz1Bkgsg5FPX2zkZmUkD3NxCikdd'}})>, <GenericCall(value={'call_module': 'SubtensorModule', 'call_function': 'sudo_hotfix_swap_coldkey_delegates', 'call_args': {'old_coldkey': '5Gbh8VH6WUCR3YPACJVUPGXfUVrQMozSfdXPMCzUZfCbeXDw', 'new_coldkey': '5CUhwJ4Qa7BWypNqsB3bGiNWRPFmStUsuc3JnsF2LPnkR8L3'}})>, <GenericCall(value={'call_module': 'SubtensorModule', 'call_function': 'sudo_hotfix_swap_coldkey_delegates', 'call_args': {'old_coldkey': '5EhPfGM2n8EtbCxye251aEAGc3CjZHVZmvz98tQ3KiT7SGD7', 'new_coldkey': '5EhdV2jLtP4hc25CzTpdy4FgqJiMFmJ2UhYugGuLjaGUax4v'}})>, <GenericCall(value={'call_module': 'SubtensorModule', 'call_function': 'sudo_hotfix_swap_coldkey_delegates', 'call_args': {'old_coldkey': '5HKADCECQrtY1EVp6yfPk1p9nxwEczRUwxbswiJmNSzKXYwy', 'new_coldkey': '5GZSdoqCPkgkenypdQ7LJYCaYv4q4813Yyp9idHbrpqKvYKB'}})>, <GenericCall(value={'call_module': 'SubtensorModule', 'call_function': 'sudo_hotfix_swap_coldkey_delegates', 'call_args': {'old_coldkey': '5EgvN7btj4yr3A4nr22vDT3uqNDbJvKLMCwneQB8tr8D6j9M', 'new_coldkey': '5CfZn1cJP2TTsbAr1vM6vxFFTBPxZfqh9brz76rBsswCWvWM'}})>, <GenericCall(value={'call_module': 'SubtensorModule', 'call_function': 'sudo_hotfix_swap_coldkey_delegates', 'call_args': {'old_coldkey': '5CUmzo6B9WjE7qFozXAk7dABNcCsM28Nsq5BcEVodL8Uorpp', 'new_coldkey': '5FUYHszDHcnS5fczfnUiLoq9vNk9NLnmYu4SWQt1uFzDPASb'}})>, <GenericCall(value={'call_module': 'SubtensorModule', 'call_function': 'sudo_hotfix_swap_coldkey_delegates', 'call_args': {'old_coldkey': '5C7Ro3auD2Y5QoVGWEKANeGjui8PiRD5aUnb5s2E6pJ2T3dS', 'new_coldkey': '5CY2ut7ZxZuXWbxdWQfQzWkmekq8HtMbcnYYZ73B4uX2v3kC'}})>, <GenericCall(value={'call_module': 'SubtensorModule', 'call_function': 'sudo_hotfix_swap_coldkey_delegates', 'call_args': {'old_coldkey': '5HN3h6rmfHgXZuqc1NTXZFtLeUH9Pn4T7Ln9sAyHn2B7vkPT', 'new_coldkey': '5HTRDSNRbx3cLqUh6maywq7p2Rvx71gX5RKFPmL53tsRvDFV'}})>, <GenericCall(value={'call_module': 'SubtensorModule', 'call_function': 'sudo_hotfix_swap_coldkey_delegates', 'call_args': {'old_coldkey': '5F9S4dFjNvzRQ3Z2Qq9Gb2zUgtQdPLpxjBrpNuqoEmsRJhxR', 'new_coldkey': '5C5QM5U8u7f2MDygQbzGZmcSbz9KxSk9vy7uNW4XKnmWmNbj'}})>, <GenericCall(value={'call_module': 'SubtensorModule', 'call_function': 'sudo_hotfix_swap_coldkey_delegates', 'call_args': {'old_coldkey': '5CS3W33c9Ry9i6r5cmKW7hJvahiEPhWDiLGhhoEK8vAVfRAs', 'new_coldkey': '5Gh4526RKuFz25xVU2K1i3LLacVeBprt4XPcaLUKZSsepgju'}})>, <GenericCall(value={'call_module': 'SubtensorModule', 'call_function': 'sudo_hotfix_swap_coldkey_delegates', 'call_args': {'old_coldkey': '5Eh4pudw3qFvDQPFB8NXFoW4afKrEWuuUpbRe2sC3C3RLNZP', 'new_coldkey': '5Cm6SwxqBnjLWAUDiPnwLvYQdzjoGCqzYeUyXD3VJnDeANYn'}})>, <GenericCall(value={'call_module': 'SubtensorModule', 'call_function': 'sudo_hotfix_swap_coldkey_delegates', 'call_args': {'old_coldkey': '5Ca4FEpusku6CoNbXEhPJ3bNWwfmS1bXxo9UkRVbNmWXsrkG', 'new_coldkey': '5GgbNYEqJVxJcFtApHBsbxqRs5VfZHZrXkXRfNXWnLdJyhog'}})>, <GenericCall(value={'call_module': 'SubtensorModule', 'call_function': 'sudo_hotfix_swap_coldkey_delegates', 'call_args': {'old_coldkey': '5DSH84Gki91Pu3H96sAiZcWVExPdWzy3hZjJP2AYahRY85DY', 'new_coldkey': '5Fo1vwxJykLub26aWBUpJo6VPKLFZtwmsYK5deGsPT9eByxJ'}})>, <GenericCall(value={'call_module': 'SubtensorModule', 'call_function': 'sudo_hotfix_swap_coldkey_delegates', 'call_args': {'old_coldkey': '5H6ucAbPp1nmMVJ6nnKDp55W4c4i8pmgXs8Ldx3pFvLm54Fr', 'new_coldkey': '5EcZsewZSTxUaX8gwyHzkKsqT3NwLP1n2faZPyjttCeaPdYe'}})>, <GenericCall(value={'call_module': 'SubtensorModule', 'call_function': 'sudo_hotfix_swap_coldkey_delegates', 'call_args': {'old_coldkey': '5Fxu8f8SQcmVBoDYMDQG1nsgysfv7Tnh8ESdRXxLHYrhx3M6', 'new_coldkey': '5EcSjbTxv49sPf53Xroemp7VRb6m4eaXvLcxAk4oqEj32Uot'}})>, <GenericCall(value={'call_module': 'SubtensorModule', 'call_function': 'sudo_hotfix_swap_coldkey_delegates', 'call_args': {'old_coldkey': '5EU9rXFnwVhy4NTi4twdvaWndp5ZfN61cDpodZNQn22xoxai', 'new_coldkey': '5HTJAKQ93fZy9Er3CaPVrqfdyd1Z3ngZi1nfGJhjgJgq5ZJM'}})>, <GenericCall(value={'call_module': 'SubtensorModule', 'call_function': 'sudo_hotfix_swap_coldkey_delegates', 'call_args': {'old_coldkey': '5DX7xyBVnL7WAsnozRSJYsSxPEftEhiB5F9Uwm2BDspx2XzT', 'new_coldkey': '5D7ZghXBKPu72KsE7cjKmsboCd2geZuxyYDXVJ8AcGMpJWup'}})>, <GenericCall(value={'call_module': 'SubtensorModule', 'call_function': 'sudo_hotfix_swap_coldkey_delegates', 'call_args': {'old_coldkey': '5CDnnExHThSRyQs9xDa67UbaaQwSuC4JReVc9teU6XoukNXn', 'new_coldkey': '5HpYCaxvxpaFUy72F1458n8TL4VpoehqyAvNvW867YUt3mq9'}})>, <GenericCall(value={'call_module': 'SubtensorModule', 'call_function': 'sudo_hotfix_swap_coldkey_delegates', 'call_args': {'old_coldkey': '5Ek8i6vqjobmkEC9kVKEX8mHAj4SKSq4KptzL9zhAAiniRYh', 'new_coldkey': '5HgSPLf9PsBhNksKUBRUxLQQSDCEE1PFaN7JBsqPkf6WButr'}})>, <GenericCall(value={'call_module': 'SubtensorModule', 'call_function': 'sudo_hotfix_swap_coldkey_delegates', 'call_args': {'old_coldkey': '5FgxX45s23sKJcxSaKEc4tLPdnTdMNbEvFzjtSujucBPd5r1', 'new_coldkey': '5E7a4a7QETrNjoZ2SbVSJMaavrQeyTEaHgjBPDUDxBKjUaMZ'}})>, <GenericCall(value={'call_module': 'SubtensorModule', 'call_function': 'sudo_hotfix_swap_coldkey_delegates', 'call_args': {'old_coldkey': '5EsnfoxDQZKXsAMCt6mr1eMcoZ3Yed1MXeoPnMAsMzozhwrY', 'new_coldkey': '5DRdXE9e9wY7MMXDZwerpxAurRDoCefhLAT94oHrFsWMvo2M'}})>, <GenericCall(value={'call_module': 'SubtensorModule', 'call_function': 'sudo_hotfix_swap_coldkey_delegates', 'call_args': {'old_coldkey': '5GjWE7iQjFfSVc4su4UcmuEzhfBE11CSDCnE9UrPmWxuxp8W', 'new_coldkey': '5CUNWEwRBXJbGdDbGKm7cxjX3Jyk6QmREHa1QAgbNM3Fd3Hq'}})>, <GenericCall(value={'call_module': 'SubtensorModule', 'call_function': 'sudo_hotfix_swap_coldkey_delegates', 'call_args': {'old_coldkey': '5CthheBc9wXbB5JAd6EpxMkxHykeuJwYXdPkkD7F5ZBLbwhq', 'new_coldkey': '5EbkWQeYjrVh9hLbQStJmbWvZbfwvHT3Sy5Hn2xK4V6t2pz1'}})>, <GenericCall(value={'call_module': 'SubtensorModule', 'call_function': 'sudo_hotfix_swap_coldkey_delegates', 'call_args': {'old_coldkey': '5FuvRciYTZhDNrRBYNYgfMmdxRLZLVSS5UcuikBWoSkPrpCi', 'new_coldkey': '5D2Cu7ZkDGt6QkhUzT4u6jcvx5hVBqbuyGwPyXwMKKxWHCzZ'}})>, <GenericCall(value={'call_module': 'SubtensorModule', 'call_function': 'sudo_hotfix_swap_coldkey_delegates', 'call_args': {'old_coldkey': '5DtdNsTrZhNBJMqirFFQ42nctxQvN6CDUwxaSNdgeki1XhjF', 'new_coldkey': '5GzjHU5c9Busrc5RrjgRNugLUESQ7RD1Bjo3vyfzhDc9ez1d'}})>, <GenericCall(value={'call_module': 'SubtensorModule', 'call_function': 'sudo_hotfix_swap_coldkey_delegates', 'call_args': {'old_coldkey': '5DhzqbQaua1t5bjyRUpyEqWRVQbhWZkyX1BnZwXMQyCJSBhX', 'new_coldkey': '5CUiCEfkDg8NBfAV7awobA1fCEFhi9aZujNVoBJKYCBB5pUK'}})>, <GenericCall(value={'call_module': 'SubtensorModule', 'call_function': 'sudo_hotfix_swap_coldkey_delegates', 'call_args': {'old_coldkey': '5GmeKhsDUxCxmY2kDqyUZqBoTrGR38WpG7NMdVfvQqrojWNm', 'new_coldkey': '5CPRn1Jd7wwMsny5TB43ViDPiadrtD5Tqy9sEnLVj7XWe2ta'}})>, <GenericCall(value={'call_module': 'SubtensorModule', 'call_function': 'sudo_hotfix_swap_coldkey_delegates', 'call_args': {'old_coldkey': '5FP8V4zuA2g2Mn1vaCcftPMp41uSwvNX6VzzTE7gqQ5t1dAS', 'new_coldkey': '5EFmtbmZ45HMRbrZpppoB1kzArMfNwBYN3KWNguq6jXtmLC3'}})>, <GenericCall(value={'call_module': 'SubtensorModule', 'call_function': 'sudo_hotfix_swap_coldkey_delegates', 'call_args': {'old_coldkey': '5FjfWkowU9TSjQR1gcGSSGm1UpQQA74K2BpFtSmUuAhic4cy', 'new_coldkey': '5FkFySenHCmhqNBHrZzrNAMuyUJ6PahVpe6UH99Z8sVR9R23'}})>, <GenericCall(value={'call_module': 'SubtensorModule', 'call_function': 'sudo_hotfix_swap_coldkey_delegates', 'call_args': {'old_coldkey': '5DSN9Wc19atomSbhHB11QXXPEGh6SYMXq67dZ6pUVpHHzy5f', 'new_coldkey': '5FhEPsssrdCpxfAk6wGCcAHbPLstSQ2kmncXwDdor7qgACk6'}})>, <GenericCall(value={'call_module': 'SubtensorModule', 'call_function': 'sudo_hotfix_swap_coldkey_delegates', 'call_args': {'old_coldkey': '5GRcgmXcc6Rq1UjVUFik4WPqNhagFt2KKDpuujm3TxHAewyx', 'new_coldkey': '5G91gohpiVSfdzaX1172Np7BiMvFvZTgMhXq5fkZ1WS9v2cr'}})>, <GenericCall(value={'call_module': 'SubtensorModule', 'call_function': 'sudo_hotfix_swap_coldkey_delegates', 'call_args': {'old_coldkey': '5ELMqTjeHDdbcLZWrb9T4r3nk9fs7AdAgBu72m3U6HzLc85h', 'new_coldkey': '5DyGvySfSJiEZZHS1nuj4BsjmT2QQ2b3bQHNrZ5sYanGk1uu'}})>, <GenericCall(value={'call_module': 'SubtensorModule', 'call_function': 'sudo_hotfix_swap_coldkey_delegates', 'call_args': {'old_coldkey': '5E7FEwtdKp9fZJy8yDAqGXzuVmU4ruSHoMpUKwfumyZW5j2U', 'new_coldkey': '5Dz2dxSZD1e4qvsUyjE5njDp4D5SiMHj3giQKWzALkfzo8WV'}})>, <GenericCall(value={'call_module': 'SubtensorModule', 'call_function': 'sudo_hotfix_swap_coldkey_delegates', 'call_args': {'old_coldkey': '5GnDkrkbuAbPice6cfpyTjoZx1L7KwPvWLtUr8pGHLcVhHzC', 'new_coldkey': '5HBZzayCxXifibJyUcFrfjzqpdH1pQdqQRiKFaw9v9vLWCzB'}})>, <GenericCall(value={'call_module': 'SubtensorModule', 'call_function': 'sudo_hotfix_swap_coldkey_delegates', 'call_args': {'old_coldkey': '5DARcHyAqDmnirvsWY4tF4kYpMZruLp8JX8jt6tMzWkUZqDn', 'new_coldkey': '5GExxW9zskSKT3mNWYLLu7CZq3AAzxmRNX3mdQhPGez7SDms'}})>, <GenericCall(value={'call_module': 'SubtensorModule', 'call_function': 'sudo_hotfix_swap_coldkey_delegates', 'call_args': {'old_coldkey': '5HZ4oat5QMDs5khU9aFApYMGkQ9xaR97ZjDKtXdgBYSwasiL', 'new_coldkey': '5ES6gtXSxw7fTR36tkcG4CXuzDnrUWBMpKvPBajXTMM13VxQ'}})>, <GenericCall(value={'call_module': 'SubtensorModule', 'call_function': 'sudo_hotfix_swap_coldkey_delegates', 'call_args': {'old_coldkey': '5HNSm3zf4GCYmDZV1Rhr3RDdrBaL2hPH1cvpRREr3uwrvVn9', 'new_coldkey': '5HCCRj6TQR2zyhRuXuya6A7rRHgdv5X6tfySexcvpDpCPn7r'}})>, <GenericCall(value={'call_module': 'SubtensorModule', 'call_function': 'sudo_hotfix_swap_coldkey_delegates', 'call_args': {'old_coldkey': '5EAAy6KZXTvihwnU4Ysthg3d7H5xZCNY5oueN2SXsF9bLaXT', 'new_coldkey': '5CogaRHH5pKAX2swfnNbGukVHGSSqzCTJuSXhj9Lp7ufnqCd'}})>, <GenericCall(value={'call_module': 'SubtensorModule', 'call_function': 'sudo_hotfix_swap_coldkey_delegates', 'call_args': {'old_coldkey': '5DoXJnu12Zxy8puBPemi4t3oXdeHLF7h1vfWGCog4krzxxWY', 'new_coldkey': '5E1viHpUQwSzZQUovFHieKnna1dngV8nK5PgvD3A7t9McGYh'}})>, <GenericCall(value={'call_module': 'SubtensorModule', 'call_function': 'sudo_hotfix_swap_coldkey_delegates', 'call_args': {'old_coldkey': '5ERwsaCKpPx62uKVdf3LbupP3x3xCH1VDwc2NMgANUDJSmTg', 'new_coldkey': '5Fs65zL26vdXnKFCXekrtZiQdrQ5sUKyGNFsdxXRLWFHbBUP'}})>, <GenericCall(value={'call_module': 'SubtensorModule', 'call_function': 'sudo_hotfix_swap_coldkey_delegates', 'call_args': {'old_coldkey': '5HYmN7kCzxNknyUZMSz5pUacP4nVaCqkvEgx7nwhiorpQ5hk', 'new_coldkey': '5Euz1xaQeVASfxQZn33kDgWjxUVnpK6kw3Gdbxm8Mf5Hu7m5'}})>, <GenericCall(value={'call_module': 'SubtensorModule', 'call_function': 'sudo_hotfix_swap_coldkey_delegates', 'call_args': {'old_coldkey': '5GuyoF5nq2nnDQVRdpoBZTvd1EyAJgQ5oyHfbX5yNK2mXeZe', 'new_coldkey': '5ELbnqa8uTqwXPhLnubq3Kk6TGvSPL7rgArU2He9Ng4p2qjN'}})>, <GenericCall(value={'call_module': 'SubtensorModule', 'call_function': 'sudo_hotfix_swap_coldkey_delegates', 'call_args': {'old_coldkey': '5H15EFM8JF3m7354XM4Ge5Sss2GiRnttQW17WyNbkZFzn4qb', 'new_coldkey': '5EFJDS6AwWUW2grA1Jkvm6HTWHVg5L8Y9V6Tnn12n84E3kPH'}})>, <GenericCall(value={'call_module': 'SubtensorModule', 'call_function': 'sudo_hotfix_swap_coldkey_delegates', 'call_args': {'old_coldkey': '5FZhdnuJDC9FrnJekeJrFxDyAK8JQBZbMQVZA1tKzioq1WBF', 'new_coldkey': '5FbFhtzVUsYhPijv7qeoNSgvFjYxoBaTs2h7jrRifUK4fpfF'}})>, <GenericCall(value={'call_module': 'SubtensorModule', 'call_function': 'sudo_hotfix_swap_coldkey_delegates', 'call_args': {'old_coldkey': '5CXUxnjaXF3kHapLz9oAR9xMcJBvZ5bwzXmLns7DbjJmpTMv', 'new_coldkey': '5FEmR5Rf1rX7ZivB2MaGBaYfq9xXAPSz3ttdABzizNmhWq3V'}})>, <GenericCall(value={'call_module': 'SubtensorModule', 'call_function': 'sudo_hotfix_swap_coldkey_delegates', 'call_args': {'old_coldkey': '5F54rRD9dko95PaQTZzKNdeT37LU4G1Tb8EVNcC8QymCXKtR', 'new_coldkey': '5C7bN4CujcFmqekqPs15gz6a5JrsbWNMYV8y4vktmpzpnGU8'}})>, <GenericCall(value={'call_module': 'SubtensorModule', 'call_function': 'sudo_hotfix_swap_coldkey_delegates', 'call_args': {'old_coldkey': '5CG8WgMrbcYjSijfwk6yms7j7qeaGeUAsNJaVytYaE71rJni', 'new_coldkey': '5E7QjW1Rd8K9VFZsnMsg5C7tSuYfc4Urv3Wcsbz2FkDKACt6'}})>, <GenericCall(value={'call_module': 'SubtensorModule', 'call_function': 'sudo_hotfix_swap_coldkey_delegates', 'call_args': {'old_coldkey': '5ER717vhHto7JehfcAUee4nyuJTJ8G6D86Mzi3e3Bac5sThr', 'new_coldkey': '5G9swfhUrBmJYYdtG9oP9eRZ3tafuZbehvSX65Kdzk7xNc5x'}})>, <GenericCall(value={'call_module': 'SubtensorModule', 'call_function': 'sudo_hotfix_swap_coldkey_delegates', 'call_args': {'old_coldkey': '5CqToKhyxxoRNSJmrFbQ4rCQSAs7uwoFMkJMH1JT5YjKodRw', 'new_coldkey': '5F6fNZEUUt8pUvHhzzw8KK1qyc8Deh5Et9waYouZaNSiYrxL'}})>, <GenericCall(value={'call_module': 'SubtensorModule', 'call_function': 'sudo_hotfix_swap_coldkey_delegates', 'call_args': {'old_coldkey': '5Cor7yTDvr8QeLcpVGTbowCRknKL55aatboWd3ywGtvWVcAn', 'new_coldkey': '5GEVt2D7riRvWHF2EhyJNoHmLENTa2g11rsiGp3fV7GV9Z9Z'}})>, <GenericCall(value={'call_module': 'SubtensorModule', 'call_function': 'sudo_hotfix_swap_coldkey_delegates', 'call_args': {'old_coldkey': '5DkcuAVVgRmdcaYGSRAzZE8XsLc8weuNSuQZ9BnsJ8wZwgsk', 'new_coldkey': '5EZS1Qu64CU7C4YdKkxkXxRmSjX9dDSijUoHrDSg6Cwc1sdv'}})>, <GenericCall(value={'call_module': 'SubtensorModule', 'call_function': 'sudo_hotfix_swap_coldkey_delegates', 'call_args': {'old_coldkey': '5FFFgo5RJZfdoz7mZeCe6Wjk4VFnRCPLhwM8FZ8RoMesehWz', 'new_coldkey': '5CJJ7nPwHmZAcDfMJeQyWBckZ7pApaGY6StsRhGxP2FwHNHa'}})>, <GenericCall(value={'call_module': 'SubtensorModule', 'call_function': 'sudo_hotfix_swap_coldkey_delegates', 'call_args': {'old_coldkey': '5F4ZbkNKmW2T6vf46RsjbatzrKhPHA69AeTzrFYoDgfezUmA', 'new_coldkey': '5DiNDMFkoxpzSnf1UkZjpBryxjM7YMcwzvB7PBSG1CNv4wWC'}})>, <GenericCall(value={'call_module': 'SubtensorModule', 'call_function': 'sudo_hotfix_swap_coldkey_delegates', 'call_args': {'old_coldkey': '5CoHuyZB6Rzo8JBjvStw69YfP6J69Sz7LEajd6fc3S5SykWF', 'new_coldkey': '5E4p9LhV8jfCHmvqXiopYbG1FU57fP6hV3u2rYu9gefW4A4L'}})>, <GenericCall(value={'call_module': 'SubtensorModule', 'call_function': 'sudo_hotfix_swap_coldkey_delegates', 'call_args': {'old_coldkey': '5DDTvwWmKgQBRvb1TddsHXXd6QQAv8kJeKmdE64wMokRWgdk', 'new_coldkey': '5F3qGe7o5ux873PX8MAq2t18npcnQV6QkrVXY8cykc5MT6Cf'}})>, <GenericCall(value={'call_module': 'SubtensorModule', 'call_function': 'sudo_hotfix_swap_coldkey_delegates', 'call_args': {'old_coldkey': '5HmHGSedXykzDKoYh8FCDpkqvfaXjjDnur6T4YFo9J9ZYUPL', 'new_coldkey': '5HjbyryyMpULN69D1H9oaxrbj5cmFxWMDNob5aamvgQF3ugU'}})>, <GenericCall(value={'call_module': 'SubtensorModule', 'call_function': 'sudo_hotfix_swap_coldkey_delegates', 'call_args': {'old_coldkey': '5DLTsXD7RVyWeDy7N5N6Zgz5tWPY6m6i7zcsnhEhDfwuAfwC', 'new_coldkey': '5Hfy8MFZSz7zW3a94CRLSiMYEuVDGm5CWSaJ6sRnr8q2Y9u5'}})>, <GenericCall(value={'call_module': 'SubtensorModule', 'call_function': 'sudo_hotfix_swap_coldkey_delegates', 'call_args': {'old_coldkey': '5H9dvjuPzjM4VCQMYSYhGZYjBRGC7iuUKyGWMLXDqHoWexhn', 'new_coldkey': '5DvECufWz5Pc8GtZs3qkz3sTPonDKpvvcKWgyt46tb7F3f6g'}})>, <GenericCall(value={'call_module': 'SubtensorModule', 'call_function': 'sudo_hotfix_swap_coldkey_delegates', 'call_args': {'old_coldkey': '5G1hAuusbp7WWpMG6s5u3Ca9W8VPcWbMF8RqP779RYGwkmQo', 'new_coldkey': '5HjivRKGf2y55eQNJXZXRmxKnQ4LsiswYoes9VuPdQDBTuZX'}})>, <GenericCall(value={'call_module': 'SubtensorModule', 'call_function': 'sudo_hotfix_swap_coldkey_delegates', 'call_args': {'old_coldkey': '5HmfpzKq6hWLxxUoCoEAsMTD41DtKCqZiP5BvBqYDJzjoN8P', 'new_coldkey': '5FHfABtAo5nfhbZLaUnC6obHBsAL7kANSTw3zuhFaHxYF2X1'}})>, <GenericCall(value={'call_module': 'SubtensorModule', 'call_function': 'sudo_hotfix_swap_coldkey_delegates', 'call_args': {'old_coldkey': '5D2HZ4AjRJaJivELXUxRUtAQSNf2YtgP9SBttwLNpK7gLwqL', 'new_coldkey': '5CtWpxb4nV8Db8kLSGzvWfmYYQ6xR31eq81TYxevg4fsa8u6'}})>, <GenericCall(value={'call_module': 'SubtensorModule', 'call_function': 'sudo_hotfix_swap_coldkey_delegates', 'call_args': {'old_coldkey': '5HNKV8EY1AF32MpvhtQJkW3kFRat4MWBApqAkwm3ZTF5GfmB', 'new_coldkey': '5FLGMrWwFdGM5MCLw2ddU2qP1vwJT6CfN9nFBVs3kzmFbVui'}})>, <GenericCall(value={'call_module': 'SubtensorModule', 'call_function': 'sudo_hotfix_swap_coldkey_delegates', 'call_args': {'old_coldkey': '5FALMgPEQRbcH3sKx5kzYtmWo9vTXyGTFVJncUhK6V2gAgnz', 'new_coldkey': '5FWiVKzJDsdXvA3xebaTmu79S2yuSE2zKvUZq1PB42GvcJdy'}})>, <GenericCall(value={'call_module': 'SubtensorModule', 'call_function': 'sudo_hotfix_swap_coldkey_delegates', 'call_args': {'old_coldkey': '5DUAPzHt87nKMEX8L7WNWtz7RJZWje2jk7gyJpCwsNpf3GTa', 'new_coldkey': '5CiHBwE2YSDWYnmNiZe4WnMSAm6e6jfiYYRbBfrQbyYw7dpb'}})>, <GenericCall(value={'call_module': 'SubtensorModule', 'call_function': 'sudo_hotfix_swap_coldkey_delegates', 'call_args': {'old_coldkey': '5GpQYwztK2hj9YEUdJYmTH4GMcLSjiF99Gh4mmfdtxXBtnho', 'new_coldkey': '5G9Eg8aYoeUaucD9RxNGXbPximQgdRxThL2FJ7e755p1DGuc'}})>, <GenericCall(value={'call_module': 'SubtensorModule', 'call_function': 'sudo_hotfix_swap_coldkey_delegates', 'call_args': {'old_coldkey': '5DZvTbyX23yL2n8Cu6mypXXuT3V9P2GtCkRURWXNteRBmEQS', 'new_coldkey': '5GEY8gyiSQfxfSeUgipxpYXD9TkqCjHki7K5tfjjRqHgVKBk'}})>, <GenericCall(value={'call_module': 'SubtensorModule', 'call_function': 'sudo_hotfix_swap_coldkey_delegates', 'call_args': {'old_coldkey': '5FWp8YGdXUrRMziZ2oc4t3vJGE3bLvuvp5FZ6UZXEKMoVaNS', 'new_coldkey': '5CfrCFSXb5UsLmjbVowQEALwZLDvUvuzH9VkmKW4DC9H5DoC'}})>, <GenericCall(value={'call_module': 'SubtensorModule', 'call_function': 'sudo_hotfix_swap_coldkey_delegates', 'call_args': {'old_coldkey': '5CcFre8CnsQJvE8UJ5AapsjZwccPHqnccVpba3fwk15XwaRJ', 'new_coldkey': '5HYYUEgPxK5AkZeN4dmVjxjTLh7Xu3FT3FoC9h6UFREpSjsW'}})>, <GenericCall(value={'call_module': 'SubtensorModule', 'call_function': 'sudo_hotfix_swap_coldkey_delegates', 'call_args': {'old_coldkey': '5HdQeTPeWWYaCWBGJUnwgY7b1gEzKHYj5KG5Q36e4WvZHcEV', 'new_coldkey': '5CDWLDC5bcNQ982Mw4shCAt19rAkd5ocBq8zgtVsp8RZc1HJ'}})>, <GenericCall(value={'call_module': 'SubtensorModule', 'call_function': 'sudo_hotfix_swap_coldkey_delegates', 'call_args': {'old_coldkey': '5CkLkM1LXFEfASSit6Dp4rcrMTp9Sb5xyy5pALazYK7XcxnB', 'new_coldkey': '5CoMgHTkpS24aV6J8BMxVaLnbm88FYkhYHVGMNhcY28PUoUK'}})>, <GenericCall(value={'call_module': 'SubtensorModule', 'call_function': 'sudo_hotfix_swap_coldkey_delegates', 'call_args': {'old_coldkey': '5DyJbCz74QbBWWcvconp9AZ9L7goAVBd7a6wdrBS358KLyGM', 'new_coldkey': '5DsfCP1VEvPEDSobTLERz26WEY5NMWFZm2uVsaZZo4r4PQUm'}})>, <GenericCall(value={'call_module': 'SubtensorModule', 'call_function': 'sudo_hotfix_swap_coldkey_delegates', 'call_args': {'old_coldkey': '5FpVWpRM9RK743A4mJWUjX58UXCFeuupEyd2TMqeBCsNZ1nX', 'new_coldkey': '5FzrpRY2VCxCUcapRPjU9Pw8jbpgmpNQFav5qCFaYep9LXm6'}})>, <GenericCall(value={'call_module': 'SubtensorModule', 'call_function': 'sudo_hotfix_swap_coldkey_delegates', 'call_args': {'old_coldkey': '5CZb6TWY3wbeRBY7j2ZH3CcwisEYwcfjJWiV1Wco4YkduuWi', 'new_coldkey': '5HbFWUAqg5u2s76Hmjnk4wNSnMKcvHwL5fU4bq1JupMyBwWz'}})>, <GenericCall(value={'call_module': 'SubtensorModule', 'call_function': 'sudo_hotfix_swap_coldkey_delegates', 'call_args': {'old_coldkey': '5DWdyhzKLJyJKRfRfXjNSj4iLJtfRpJXeGVr5D19KciuyXuv', 'new_coldkey': '5GxhFPS2aaTrvnrW3ba25wWNU9HoTUVrGCqPJGNn6HpHQbbA'}})>, <GenericCall(value={'call_module': 'SubtensorModule', 'call_function': 'sudo_hotfix_swap_coldkey_delegates', 'call_args': {'old_coldkey': '5HGiypJkEuEm8x1i1ocqiqKqH2WLPJtyUaP2T58Yy9igfoVd', 'new_coldkey': '5FQnXs1GzD4sdNhKvsmd1kNRQohAJNwK32nrGeK3M5dKz4D2'}})>, <GenericCall(value={'call_module': 'SubtensorModule', 'call_function': 'sudo_hotfix_swap_coldkey_delegates', 'call_args': {'old_coldkey': '5CswhyA1F8xh7ZstXfFkcgn1MAL2WoGBFokUV7syrYGb5vW9', 'new_coldkey': '5Hgc94zQHcrK8Hd3FgCVceMxZ6iA4uXTpdry3rZf6s9kRaoE'}})>, <GenericCall(value={'call_module': 'SubtensorModule', 'call_function': 'sudo_hotfix_swap_coldkey_delegates', 'call_args': {'old_coldkey': '5G1Jwicv2Thbxp75wyM1ZyeJJnPELVzRCvXFsziLr3dpcukJ', 'new_coldkey': '5DACtBvhqqXYq8jsxvxuLE3Rt4u4pdEyfQFczJpcT6nPcaeG'}})>, <GenericCall(value={'call_module': 'SubtensorModule', 'call_function': 'sudo_hotfix_swap_coldkey_delegates', 'call_args': {'old_coldkey': '5H49qbc7o1QBrqvpnRL13t7yXgVR8mE6WB9FnXuy1ZRqk3xC', 'new_coldkey': '5GbcXUiCWBDdgFTBKPQUh5aVjqZr2mgfMPPUmYxkSq6nGaFq'}})>, <GenericCall(value={'call_module': 'SubtensorModule', 'call_function': 'sudo_hotfix_swap_coldkey_delegates', 'call_args': {'old_coldkey': '5FLfihkJkuCKFsjnNqfvgQKxBZJACYBcWnBLEKKYwradSf3g', 'new_coldkey': '5CQ415eHKkDknkSf3VdnnrncvGH8F6nBZTwySmZCzA4UTCTM'}})>, <GenericCall(value={'call_module': 'SubtensorModule', 'call_function': 'sudo_hotfix_swap_coldkey_delegates', 'call_args': {'old_coldkey': '5CcWpkSzbfDPCBqwF2jagzepQDXkAypqb5qPPkg1Am2afPor', 'new_coldkey': '5FBgrohFQKuwp164epP3LXbQPSpRYu3SKq2cKFfFQewQzSqt'}})>, <GenericCall(value={'call_module': 'SubtensorModule', 'call_function': 'sudo_hotfix_swap_coldkey_delegates', 'call_args': {'old_coldkey': '5HL2am1utE7GGhpdpSHMWDwYCJy5JGJLgvaGcSmpqZqhdpLN', 'new_coldkey': '5Hp8CRWgczPHV2N7apJX5dCypFubX6Ptov4pL6mcmJZtQZQo'}})>, <GenericCall(value={'call_module': 'SubtensorModule', 'call_function': 'sudo_hotfix_swap_coldkey_delegates', 'call_args': {'old_coldkey': '5C7RyuGubCowQvtqhh2o2ZtMS7s53ayfKGYv7yit7zqtroHp', 'new_coldkey': '5DXCTBN6dqt1cSxDFWxtkHWnJcL5VdKgDVPzBygihCqq3HGD'}})>, <GenericCall(value={'call_module': 'SubtensorModule', 'call_function': 'sudo_hotfix_swap_coldkey_delegates', 'call_args': {'old_coldkey': '5HE5J9rfC3g6pV9FhQHevT6xPJxk4xgNoEFeiVewz2onsQPr', 'new_coldkey': '5Hdco2zty3GYYNcLHJyMb3qKbsMPeYnGT87YvjppXogNczVt'}})>, <GenericCall(value={'call_module': 'SubtensorModule', 'call_function': 'sudo_hotfix_swap_coldkey_delegates', 'call_args': {'old_coldkey': '5D24pqY3XiEeL8fXi3t5M2CLMNsRERsCoeh3c8jCPXS3zfLb', 'new_coldkey': '5HpHbavJK2CJNPXaHXGcGfzJ9eMpDDbAdw43YBscNVDLNn3i'}})>, <GenericCall(value={'call_module': 'SubtensorModule', 'call_function': 'sudo_hotfix_swap_coldkey_delegates', 'call_args': {'old_coldkey': '5HZCSuv7mkykaXcJ1k8Kms3oq18fqEY6wwW2y91zHYWSHh9r', 'new_coldkey': '5EcfssmYZueyBtPbbHJieyWqFhwbLok2TTVVty5uFsE3uyAA'}})>, <GenericCall(value={'call_module': 'SubtensorModule', 'call_function': 'sudo_hotfix_swap_coldkey_delegates', 'call_args': {'old_coldkey': '5FgbbsNucninQLDtPBc1k6WfRN4SBMiPqThq5SSppkzhnVc9', 'new_coldkey': '5HE4wkXKVT5vmSaKKiXTMRmu2tNDti9Hx4J6AashiehcW5vq'}})>, <GenericCall(value={'call_module': 'SubtensorModule', 'call_function': 'sudo_hotfix_swap_coldkey_delegates', 'call_args': {'old_coldkey': '5ENyFZZAgVo5NMmCyho1Le8cKrHp6aCX1Z9gXeSYAfvAGKSD', 'new_coldkey': '5DPGgdrBvpnykhfYcoRefPXiNe6YPo5XsY77Rbt8gjY5HfuU'}})>, <GenericCall(value={'call_module': 'SubtensorModule', 'call_function': 'sudo_hotfix_swap_coldkey_delegates', 'call_args': {'old_coldkey': '5C7a1BPtuiABTAGEmiNNkHyvA58J1kf31ToVy1JHsfu8LTqz', 'new_coldkey': '5FjacWntLV1zWZFMRiGmhmE66uJwMQ3aDwnxz4HNEkuu7FnX'}})>, <GenericCall(value={'call_module': 'SubtensorModule', 'call_function': 'sudo_hotfix_swap_coldkey_delegates', 'call_args': {'old_coldkey': '5CXEaZszNqGvWur9f15hdVvnA84ojymZBqwhe94jiN8W5Vr4', 'new_coldkey': '5DNn9ZMCTRL7KVvhAqnATnPbFf7StTDT3yf2LKoVNoK5X4hB'}})>, <GenericCall(value={'call_module': 'SubtensorModule', 'call_function': 'sudo_hotfix_swap_coldkey_delegates', 'call_args': {'old_coldkey': '5ECsNux5TeSAdJCYWgyNYYxMLD9qN9mneziNThx82PRM9W7r', 'new_coldkey': '5CqichJPQkVAigfEohnvVDEUUWZjsevBjmd2RMeLdUyoT5nK'}})>, <GenericCall(value={'call_module': 'SubtensorModule', 'call_function': 'sudo_hotfix_swap_coldkey_delegates', 'call_args': {'old_coldkey': '5GTLLrBC1ekj4tKCUaVm3zHd88ie8Y6GdiX5bKgwBgikPkWQ', 'new_coldkey': '5CqSeScXXkWDbvhXhND51PA96rUn8ZCXDxRg1wNnAn43YUpp'}})>, <GenericCall(value={'call_module': 'SubtensorModule', 'call_function': 'sudo_hotfix_swap_coldkey_delegates', 'call_args': {'old_coldkey': '5Dkk7NDdMkJzC2xcMVY6jtwYiUGYqYHqncVd3YRLrCgCCj2C', 'new_coldkey': '5DCRgChnLgQTVJYcUvXc4BvLpoh2BEJRKB5pFGrprhkAYoFo'}})>, <GenericCall(value={'call_module': 'SubtensorModule', 'call_function': 'sudo_hotfix_swap_coldkey_delegates', 'call_args': {'old_coldkey': '5DqZd4n7Mc5iUzGBJeQEmZBnMnd4EswX1KKva4s28oYna7Rj', 'new_coldkey': '5CAXk8HNekSZTkpqjV7e5cMFSgyDPphGCG8p5NYxkYeFHyhb'}})>, <GenericCall(value={'call_module': 'SubtensorModule', 'call_function': 'sudo_hotfix_swap_coldkey_delegates', 'call_args': {'old_coldkey': '5CJmUnvySUFYZcMYcjFh3m8WVksNYMHxBSZwFWWVvDuBUYKf', 'new_coldkey': '5FW5SqGrVLGu1gVfZMa5xawsWngwQTSpFGY8MPKpCgMZcdNi'}})>, <GenericCall(value={'call_module': 'SubtensorModule', 'call_function': 'sudo_hotfix_swap_coldkey_delegates', 'call_args': {'old_coldkey': '5HK3ooguZhxSLCD5dZEChFKoFzvfzZ6mmeKUFFKchpaVuqAe', 'new_coldkey': '5H3dmLkniH5HjZzzS1WqRJG7dNdVRxudutRhqFbaA8MiFVyR'}})>, <GenericCall(value={'call_module': 'SubtensorModule', 'call_function': 'sudo_hotfix_swap_coldkey_delegates', 'call_args': {'old_coldkey': '5E5DA7kefeNHojB9MCF9XBmTQJeEcgENVKLCGpARKtACGVQH', 'new_coldkey': '5FNg2iTmkRriCKbxjXai2ohhKw5LcAQtJ1JKQguHyFkS2bZ1'}})>, <GenericCall(value={'call_module': 'SubtensorModule', 'call_function': 'sudo_hotfix_swap_coldkey_delegates', 'call_args': {'old_coldkey': '5GzzKAmqJRbzYWRij3KrRbfDwYEZYeDMxeYhpb7BS9EhC1rG', 'new_coldkey': '5DUvXjGaouB3WVWq9jJJcuKaAUCPta9EynwMxbCUHVmS8fhG'}})>, <GenericCall(value={'call_module': 'SubtensorModule', 'call_function': 'sudo_hotfix_swap_coldkey_delegates', 'call_args': {'old_coldkey': '5D7RtQtUkqXZRphLWtVHnaMynoaN8SuEZdf2EA1mF3MQGLSb', 'new_coldkey': '5DRTcZmG25o4zoLYAgEqo9HgYjHbAT7beE5VXNZxvQ6wm77P'}})>, <GenericCall(value={'call_module': 'SubtensorModule', 'call_function': 'sudo_hotfix_swap_coldkey_delegates', 'call_args': {'old_coldkey': '5G9ehNLHJ7gGQe9MVZj2fiPDzuMrppW6mFSFJfJhJQMBnccY', 'new_coldkey': '5CfYtbLf4s1VAsB2b51hnADwoSLtNWVsMxNrgdhZHEVb9fpn'}})>, <GenericCall(value={'call_module': 'SubtensorModule', 'call_function': 'sudo_hotfix_swap_coldkey_delegates', 'call_args': {'old_coldkey': '5EeBPRWCreFgr82pjyKSqpeLFXZxwvXyEDWz5M3hykrqv8fi', 'new_coldkey': '5FnHXzo4aUgW6BmxUYHqgWf4q9UUz2viknzHUT5sJEgZt7jM'}})>, <GenericCall(value={'call_module': 'SubtensorModule', 'call_function': 'sudo_hotfix_swap_coldkey_delegates', 'call_args': {'old_coldkey': '5FxHzukVa9vc5u7yj441ugxAKwPHTc7wqi2iSFwnxS8isrox', 'new_coldkey': '5CXpVMGaD8SHYwYn4p2Vo4i1LtwQXiyAR45pSbYSC9jU9EYv'}})>, <GenericCall(value={'call_module': 'SubtensorModule', 'call_function': 'sudo_hotfix_swap_coldkey_delegates', 'call_args': {'old_coldkey': '5GRc4GSb8ndN5HKbk32ztdnDZKbq67kKwQRouxKPjMdZZdRW', 'new_coldkey': '5D2DvfDXiqAacdeKLNcGS7n8PYyYemr328FbNi4e5qT6QGaC'}})>, <GenericCall(value={'call_module': 'SubtensorModule', 'call_function': 'sudo_hotfix_swap_coldkey_delegates', 'call_args': {'old_coldkey': '5HBHfXVNT88XND83t5GRS3Z8iR6JZnJcJSz4sNM9V8BEZnEJ', 'new_coldkey': '5H9ZikDhdLBCfH94NVdNoXzHsoYMNjcWu12wPBaPXSHmyPrY'}})>, <GenericCall(value={'call_module': 'SubtensorModule', 'call_function': 'sudo_hotfix_swap_coldkey_delegates', 'call_args': {'old_coldkey': '5Gx3iJ6pQK6W3bdLftRSqF4wcCWVPKV55UdcuSVhD4aReCeG', 'new_coldkey': '5HeWmiG9oJb5uFnQoB9Ea3JFD7yUitXAVPoigda8giUoDfnR'}})>, <GenericCall(value={'call_module': 'SubtensorModule', 'call_function': 'sudo_hotfix_swap_coldkey_delegates', 'call_args': {'old_coldkey': '5DceCVDqkVEpmHsHn9TVzfQFyBXt45g4Wtq9N44CZc32PdRj', 'new_coldkey': '5GKzo4uHox8Nrk1PxXsNuXJ2Ld7JWTHUHx7hLK94MbWgV9Sn'}})>, <GenericCall(value={'call_module': 'SubtensorModule', 'call_function': 'sudo_hotfix_swap_coldkey_delegates', 'call_args': {'old_coldkey': '5FBzK8jAJGJJyVHzdimA1Eyiq6gnoUedCbZsiaAY75pPe7nk', 'new_coldkey': '5CJdDzk2AX7dmkf6HWry49jYHiPDpLSGqwPJhRpDwXKG3i7U'}})>, <GenericCall(value={'call_module': 'SubtensorModule', 'call_function': 'sudo_hotfix_swap_coldkey_delegates', 'call_args': {'old_coldkey': '5HEHmpNkKFuTKb2FU6DJqYprsY1CVUodQpgYiym7wva64HmB', 'new_coldkey': '5GxtPoPTrSjU1mbjWRtTpzrPpJ9mb3sKEcKYPAnyB3ipAB4c'}})>, <GenericCall(value={'call_module': 'SubtensorModule', 'call_function': 'sudo_hotfix_swap_coldkey_delegates', 'call_args': {'old_coldkey': '5HTfxYzAnFaRKFut1WZH8XtBphVSj7KAYQ4yMzqvZSXWfyFG', 'new_coldkey': '5Dw7vAsQGLTgL7PUETAbaLyhHDE7voediicsiPh1nxTTQoJ4'}})>, <GenericCall(value={'call_module': 'SubtensorModule', 'call_function': 'sudo_hotfix_swap_coldkey_delegates', 'call_args': {'old_coldkey': '5Ctwns1p4UNCvESjVkqcvn8HAFEgXADPigLnN5tv1pQeVGH5', 'new_coldkey': '5E812kkV5ZWavVi9N5tL7mwQrtfBCcj7XXktNQrB5bgBu6Aq'}})>, <GenericCall(value={'call_module': 'SubtensorModule', 'call_function': 'sudo_hotfix_swap_coldkey_delegates', 'call_args': {'old_coldkey': '5GqMtSsjMKsrcMnhQTJi4yyTS6XDS47PLy6vYioNWTdgpUWJ', 'new_coldkey': '5Fc4JtKKCQ6iCmBAEdxbnJ3Liu81qCgt7bxCR6sJq9JQKeZH'}})>, <GenericCall(value={'call_module': 'SubtensorModule', 'call_function': 'sudo_hotfix_swap_coldkey_delegates', 'call_args': {'old_coldkey': '5G9Qm8fWx5MFQ6GrXyqXbiZr9PaJouYJNYzbhJsFscXEV8Rg', 'new_coldkey': '5Ec85FDXq2bfWvfjwdjifMycXCcJe7rJfm9WG4YkWTbk9w1Q'}})>, <GenericCall(value={'call_module': 'SubtensorModule', 'call_function': 'sudo_hotfix_swap_coldkey_delegates', 'call_args': {'old_coldkey': '5CaW1fvjxjbgevmWcXggZUfocxbKPF8MqFsVFmYgcQUJ9y33', 'new_coldkey': '5FCKdrQhS9jikJW1KkBNBrEwjq733VGbEFL8K9xJQ3p3jrY8'}})>, <GenericCall(value={'call_module': 'SubtensorModule', 'call_function': 'sudo_hotfix_swap_coldkey_delegates', 'call_args': {'old_coldkey': '5Gsm3etzwwJDSvv1F1Hq29uj5KQWpFfd7HBAvUAq7LGjkCtX', 'new_coldkey': '5CJ4fNN3vPHPKU7GeDdUVHqrdfpYcakA1eH62BqehavSuPw9'}})>, <GenericCall(value={'call_module': 'SubtensorModule', 'call_function': 'sudo_hotfix_swap_coldkey_delegates', 'call_args': {'old_coldkey': '5FCwQ83R6MpZFHntgLmPrDKb3juCdgrAj7iWeFwdv5naKiat', 'new_coldkey': '5HDijFsM1oSXp6uewWNLr9XXdyr6TDx7k3V8XfVRUpUaAhsA'}})>, <GenericCall(value={'call_module': 'SubtensorModule', 'call_function': 'sudo_hotfix_swap_coldkey_delegates', 'call_args': {'old_coldkey': '5EspT5sJwLe7yTAvMfWgRxBChuCfBygV2stebnCu3HAvEg9T', 'new_coldkey': '5DnSqpyLaGJ35cbrEXfaDKGWdihRFh9439Q6pKf7yswhxVzQ'}})>, <GenericCall(value={'call_module': 'SubtensorModule', 'call_function': 'sudo_hotfix_swap_coldkey_delegates', 'call_args': {'old_coldkey': '5EJRDNGGnSf3YfpUz6xrM3gkvLhNPDJ7QcK2mK48gZUEGH3r', 'new_coldkey': '5HjCynhYoYhUzC7RHkKrdq9VfykXCkZPQwZhfeeK3CF5M9p5'}})>, <GenericCall(value={'call_module': 'SubtensorModule', 'call_function': 'sudo_hotfix_swap_coldkey_delegates', 'call_args': {'old_coldkey': '5EAZ5d6Mi9KwngzSsDLTd9xGktn7s8hjLY1jXTK2XMBiB8VW', 'new_coldkey': '5G759yU31a9rLvSs9Z1nj2XnhGJ817E39QqRHk9UFffmBk2B'}})>]}})>, 'weight': {'ref_time': 0, 'proof_size': 0}}})>, 'threshold': 2, 'other_signatories': ['5FPJHiZnj5wk2hGxer7xwBJi91WNwsssYeVspq7Sd9mhwyxt', '5GmX9ZESxY6b8N2LxWKnaYH3VmbmPRjM4iu5f8oRs78R2Hzi'], 'max_weight': {'ref_time': 0, 'proof_size': 0}, 'maybe_timepoint': None}}})>"
      ]
     },
     "execution_count": 39,
     "metadata": {},
     "output_type": "execute_result"
    }
   ],
   "source": [
    "signed"
   ]
  },
  {
   "cell_type": "code",
   "execution_count": 19,
   "metadata": {},
   "outputs": [],
   "source": [
    "with open(\"moved_already.json\", \"r\") as f:\n",
    "    moved_already = json.load(f)"
   ]
  },
  {
   "cell_type": "code",
   "execution_count": 20,
   "metadata": {},
   "outputs": [
    {
     "name": "stdout",
     "output_type": "stream",
     "text": [
      "Not in moved already 5Ctwns1p4UNCvESjVkqcvn8HAFEgXADPigLnN5tv1pQeVGH5 5E812kkV5ZWavVi9N5tL7mwQrtfBCcj7XXktNQrB5bgBu6Aq\n",
      "Not in moved already 5GqMtSsjMKsrcMnhQTJi4yyTS6XDS47PLy6vYioNWTdgpUWJ 5Fc4JtKKCQ6iCmBAEdxbnJ3Liu81qCgt7bxCR6sJq9JQKeZH\n",
      "Not in moved already 5G9Qm8fWx5MFQ6GrXyqXbiZr9PaJouYJNYzbhJsFscXEV8Rg 5Ec85FDXq2bfWvfjwdjifMycXCcJe7rJfm9WG4YkWTbk9w1Q\n",
      "Not in moved already 5CaW1fvjxjbgevmWcXggZUfocxbKPF8MqFsVFmYgcQUJ9y33 5FCKdrQhS9jikJW1KkBNBrEwjq733VGbEFL8K9xJQ3p3jrY8\n",
      "Not in moved already 5Gsm3etzwwJDSvv1F1Hq29uj5KQWpFfd7HBAvUAq7LGjkCtX 5CJ4fNN3vPHPKU7GeDdUVHqrdfpYcakA1eH62BqehavSuPw9\n",
      "Not in moved already 5FCwQ83R6MpZFHntgLmPrDKb3juCdgrAj7iWeFwdv5naKiat 5HDijFsM1oSXp6uewWNLr9XXdyr6TDx7k3V8XfVRUpUaAhsA\n",
      "Not in moved already 5EspT5sJwLe7yTAvMfWgRxBChuCfBygV2stebnCu3HAvEg9T 5DnSqpyLaGJ35cbrEXfaDKGWdihRFh9439Q6pKf7yswhxVzQ\n",
      "Not in moved already 5EJRDNGGnSf3YfpUz6xrM3gkvLhNPDJ7QcK2mK48gZUEGH3r 5HjCynhYoYhUzC7RHkKrdq9VfykXCkZPQwZhfeeK3CF5M9p5\n",
      "Not in moved already 5EAZ5d6Mi9KwngzSsDLTd9xGktn7s8hjLY1jXTK2XMBiB8VW 5G759yU31a9rLvSs9Z1nj2XnhGJ817E39QqRHk9UFffmBk2B\n"
     ]
    }
   ],
   "source": [
    "with open(\"accts.json\", \"r\") as f:\n",
    "    jake_accts = json.load(f)\n",
    "\n",
    "for acct in jake_accts:\n",
    "    src = acct[\"source\"]\n",
    "    dst = acct[\"dest\"][0]\n",
    "    \n",
    "    if src in moved_already:\n",
    "        if dst != moved_already[src][0]:\n",
    "            print(\"Mismatch\", src, dst, moved_already[src][0])\n",
    "    else:\n",
    "        print(\"Not in moved already\", src, dst)\n"
   ]
  },
  {
   "cell_type": "code",
   "execution_count": 21,
   "metadata": {},
   "outputs": [
    {
     "data": {
      "text/plain": [
       "(122, 131)"
      ]
     },
     "execution_count": 21,
     "metadata": {},
     "output_type": "execute_result"
    }
   ],
   "source": [
    "len(moved_already), len(jake_accts)"
   ]
  },
  {
   "cell_type": "code",
   "execution_count": 104,
   "metadata": {},
   "outputs": [
    {
     "data": {
      "text/plain": [
       "122"
      ]
     },
     "execution_count": 104,
     "metadata": {},
     "output_type": "execute_result"
    }
   ],
   "source": [
    "len(moved_already)"
   ]
  },
  {
   "cell_type": "code",
   "execution_count": 111,
   "metadata": {},
   "outputs": [
    {
     "name": "stdout",
     "output_type": "stream",
     "text": [
      "5Gn9nv7Le5XYitfP86bdDuc92fUtcPGQtDM6vCcZur4fwUpy 5Gn9nv7Le5XYitfP86bdDuc92fUtcPGQtDM6vCcZur4fwUpy True\n",
      "5DXCTBN6dqt1cSxDFWxtkHWnJcL5VdKgDVPzBygihCqq3HGD 5DXCTBN6dqt1cSxDFWxtkHWnJcL5VdKgDVPzBygihCqq3HGD True\n",
      "5HTRDSNRbx3cLqUh6maywq7p2Rvx71gX5RKFPmL53tsRvDFV 5HTRDSNRbx3cLqUh6maywq7p2Rvx71gX5RKFPmL53tsRvDFV True\n",
      "5FFXXq9KN2BYZyydt15D2HoY5UhEHCnVFVsDstV8J6hTnYRM 5FFXXq9KN2BYZyydt15D2HoY5UhEHCnVFVsDstV8J6hTnYRM True\n",
      "5CoMgHTkpS24aV6J8BMxVaLnbm88FYkhYHVGMNhcY28PUoUK 5CoMgHTkpS24aV6J8BMxVaLnbm88FYkhYHVGMNhcY28PUoUK True\n",
      "5Dz2dxSZD1e4qvsUyjE5njDp4D5SiMHj3giQKWzALkfzo8WV 5Dz2dxSZD1e4qvsUyjE5njDp4D5SiMHj3giQKWzALkfzo8WV True\n",
      "5EFJDS6AwWUW2grA1Jkvm6HTWHVg5L8Y9V6Tnn12n84E3kPH 5EFJDS6AwWUW2grA1Jkvm6HTWHVg5L8Y9V6Tnn12n84E3kPH True\n",
      "5EcZsewZSTxUaX8gwyHzkKsqT3NwLP1n2faZPyjttCeaPdYe 5EcZsewZSTxUaX8gwyHzkKsqT3NwLP1n2faZPyjttCeaPdYe True\n",
      "5CqichJPQkVAigfEohnvVDEUUWZjsevBjmd2RMeLdUyoT5nK 5CqichJPQkVAigfEohnvVDEUUWZjsevBjmd2RMeLdUyoT5nK True\n",
      "5HpHbavJK2CJNPXaHXGcGfzJ9eMpDDbAdw43YBscNVDLNn3i 5HpHbavJK2CJNPXaHXGcGfzJ9eMpDDbAdw43YBscNVDLNn3i True\n",
      "5E7a4a7QETrNjoZ2SbVSJMaavrQeyTEaHgjBPDUDxBKjUaMZ 5E7a4a7QETrNjoZ2SbVSJMaavrQeyTEaHgjBPDUDxBKjUaMZ True\n",
      "5FnHXzo4aUgW6BmxUYHqgWf4q9UUz2viknzHUT5sJEgZt7jM 5FnHXzo4aUgW6BmxUYHqgWf4q9UUz2viknzHUT5sJEgZt7jM True\n",
      "5DsfCP1VEvPEDSobTLERz26WEY5NMWFZm2uVsaZZo4r4PQUm 5DsfCP1VEvPEDSobTLERz26WEY5NMWFZm2uVsaZZo4r4PQUm True\n",
      "5Gh4526RKuFz25xVU2K1i3LLacVeBprt4XPcaLUKZSsepgju 5Gh4526RKuFz25xVU2K1i3LLacVeBprt4XPcaLUKZSsepgju True\n",
      "5C7bN4CujcFmqekqPs15gz6a5JrsbWNMYV8y4vktmpzpnGU8 5C7bN4CujcFmqekqPs15gz6a5JrsbWNMYV8y4vktmpzpnGU8 True\n",
      "5GP7fVa4tyiXkBpoxquJ2Hua19nvcqTE7FpyNNdpgBp741qk 5GP7fVa4tyiXkBpoxquJ2Hua19nvcqTE7FpyNNdpgBp741qk True\n",
      "5CUNWEwRBXJbGdDbGKm7cxjX3Jyk6QmREHa1QAgbNM3Fd3Hq 5CUNWEwRBXJbGdDbGKm7cxjX3Jyk6QmREHa1QAgbNM3Fd3Hq True\n",
      "5CPRn1Jd7wwMsny5TB43ViDPiadrtD5Tqy9sEnLVj7XWe2ta 5CPRn1Jd7wwMsny5TB43ViDPiadrtD5Tqy9sEnLVj7XWe2ta True\n",
      "5FNg2iTmkRriCKbxjXai2ohhKw5LcAQtJ1JKQguHyFkS2bZ1 5FNg2iTmkRriCKbxjXai2ohhKw5LcAQtJ1JKQguHyFkS2bZ1 True\n",
      "5GEVt2D7riRvWHF2EhyJNoHmLENTa2g11rsiGp3fV7GV9Z9Z 5GEVt2D7riRvWHF2EhyJNoHmLENTa2g11rsiGp3fV7GV9Z9Z True\n",
      "5DAakJ2SWBQ2qavWEJvdNUv8176Re82Wgrm3hy7MN55oTauo 5DAakJ2SWBQ2qavWEJvdNUv8176Re82Wgrm3hy7MN55oTauo True\n",
      "5CDWLDC5bcNQ982Mw4shCAt19rAkd5ocBq8zgtVsp8RZc1HJ 5CDWLDC5bcNQ982Mw4shCAt19rAkd5ocBq8zgtVsp8RZc1HJ True\n",
      "5GZSAgaVGQqegjhEkxpJjpSVLVmNnE2vx2PFLzr7kBBMKpGQ 5GZSAgaVGQqegjhEkxpJjpSVLVmNnE2vx2PFLzr7kBBMKpGQ True\n",
      "5DPGgdrBvpnykhfYcoRefPXiNe6YPo5XsY77Rbt8gjY5HfuU 5DPGgdrBvpnykhfYcoRefPXiNe6YPo5XsY77Rbt8gjY5HfuU True\n",
      "5D2Cu7ZkDGt6QkhUzT4u6jcvx5hVBqbuyGwPyXwMKKxWHCzZ 5D2Cu7ZkDGt6QkhUzT4u6jcvx5hVBqbuyGwPyXwMKKxWHCzZ True\n",
      "5H3dmLkniH5HjZzzS1WqRJG7dNdVRxudutRhqFbaA8MiFVyR 5H3dmLkniH5HjZzzS1WqRJG7dNdVRxudutRhqFbaA8MiFVyR True\n",
      "5DNn9ZMCTRL7KVvhAqnATnPbFf7StTDT3yf2LKoVNoK5X4hB 5DNn9ZMCTRL7KVvhAqnATnPbFf7StTDT3yf2LKoVNoK5X4hB True\n",
      "5GgbNYEqJVxJcFtApHBsbxqRs5VfZHZrXkXRfNXWnLdJyhog 5GgbNYEqJVxJcFtApHBsbxqRs5VfZHZrXkXRfNXWnLdJyhog True\n",
      "5CXpVMGaD8SHYwYn4p2Vo4i1LtwQXiyAR45pSbYSC9jU9EYv 5CXpVMGaD8SHYwYn4p2Vo4i1LtwQXiyAR45pSbYSC9jU9EYv True\n",
      "5GEY8gyiSQfxfSeUgipxpYXD9TkqCjHki7K5tfjjRqHgVKBk 5GEY8gyiSQfxfSeUgipxpYXD9TkqCjHki7K5tfjjRqHgVKBk True\n",
      "5Fs65zL26vdXnKFCXekrtZiQdrQ5sUKyGNFsdxXRLWFHbBUP 5Fs65zL26vdXnKFCXekrtZiQdrQ5sUKyGNFsdxXRLWFHbBUP True\n",
      "5CfrCFSXb5UsLmjbVowQEALwZLDvUvuzH9VkmKW4DC9H5DoC 5CfrCFSXb5UsLmjbVowQEALwZLDvUvuzH9VkmKW4DC9H5DoC True\n",
      "5FBgrohFQKuwp164epP3LXbQPSpRYu3SKq2cKFfFQewQzSqt 5FBgrohFQKuwp164epP3LXbQPSpRYu3SKq2cKFfFQewQzSqt True\n",
      "5Hfy8MFZSz7zW3a94CRLSiMYEuVDGm5CWSaJ6sRnr8q2Y9u5 5Hfy8MFZSz7zW3a94CRLSiMYEuVDGm5CWSaJ6sRnr8q2Y9u5 True\n",
      "5E7QjW1Rd8K9VFZsnMsg5C7tSuYfc4Urv3Wcsbz2FkDKACt6 5E7QjW1Rd8K9VFZsnMsg5C7tSuYfc4Urv3Wcsbz2FkDKACt6 True\n",
      "5EFmtbmZ45HMRbrZpppoB1kzArMfNwBYN3KWNguq6jXtmLC3 5EFmtbmZ45HMRbrZpppoB1kzArMfNwBYN3KWNguq6jXtmLC3 True\n",
      "5CJJ7nPwHmZAcDfMJeQyWBckZ7pApaGY6StsRhGxP2FwHNHa 5CJJ7nPwHmZAcDfMJeQyWBckZ7pApaGY6StsRhGxP2FwHNHa True\n",
      "5HTJAKQ93fZy9Er3CaPVrqfdyd1Z3ngZi1nfGJhjgJgq5ZJM 5HTJAKQ93fZy9Er3CaPVrqfdyd1Z3ngZi1nfGJhjgJgq5ZJM True\n",
      "5EbkWQeYjrVh9hLbQStJmbWvZbfwvHT3Sy5Hn2xK4V6t2pz1 5EbkWQeYjrVh9hLbQStJmbWvZbfwvHT3Sy5Hn2xK4V6t2pz1 True\n",
      "5CtWpxb4nV8Db8kLSGzvWfmYYQ6xR31eq81TYxevg4fsa8u6 5CtWpxb4nV8Db8kLSGzvWfmYYQ6xR31eq81TYxevg4fsa8u6 True\n",
      "5Euz1xaQeVASfxQZn33kDgWjxUVnpK6kw3Gdbxm8Mf5Hu7m5 5Euz1xaQeVASfxQZn33kDgWjxUVnpK6kw3Gdbxm8Mf5Hu7m5 True\n",
      "5EcfssmYZueyBtPbbHJieyWqFhwbLok2TTVVty5uFsE3uyAA 5EcfssmYZueyBtPbbHJieyWqFhwbLok2TTVVty5uFsE3uyAA True\n",
      "5EcSjbTxv49sPf53Xroemp7VRb6m4eaXvLcxAk4oqEj32Uot 5EcSjbTxv49sPf53Xroemp7VRb6m4eaXvLcxAk4oqEj32Uot True\n",
      "5DvECufWz5Pc8GtZs3qkz3sTPonDKpvvcKWgyt46tb7F3f6g 5DvECufWz5Pc8GtZs3qkz3sTPonDKpvvcKWgyt46tb7F3f6g True\n",
      "5CfZn1cJP2TTsbAr1vM6vxFFTBPxZfqh9brz76rBsswCWvWM 5CfZn1cJP2TTsbAr1vM6vxFFTBPxZfqh9brz76rBsswCWvWM True\n",
      "5GxhFPS2aaTrvnrW3ba25wWNU9HoTUVrGCqPJGNn6HpHQbbA 5GxhFPS2aaTrvnrW3ba25wWNU9HoTUVrGCqPJGNn6HpHQbbA True\n",
      "5DCRgChnLgQTVJYcUvXc4BvLpoh2BEJRKB5pFGrprhkAYoFo 5DCRgChnLgQTVJYcUvXc4BvLpoh2BEJRKB5pFGrprhkAYoFo True\n",
      "5HBZzayCxXifibJyUcFrfjzqpdH1pQdqQRiKFaw9v9vLWCzB 5HBZzayCxXifibJyUcFrfjzqpdH1pQdqQRiKFaw9v9vLWCzB True\n",
      "5G91gohpiVSfdzaX1172Np7BiMvFvZTgMhXq5fkZ1WS9v2cr 5G91gohpiVSfdzaX1172Np7BiMvFvZTgMhXq5fkZ1WS9v2cr True\n",
      "5DU9nVMNsUqaSZTp8UkQ2dNp6aTQAaBYdQeAapfX8JDmwxFY 5DU9nVMNsUqaSZTp8UkQ2dNp6aTQAaBYdQeAapfX8JDmwxFY True\n",
      "5FHfABtAo5nfhbZLaUnC6obHBsAL7kANSTw3zuhFaHxYF2X1 5FHfABtAo5nfhbZLaUnC6obHBsAL7kANSTw3zuhFaHxYF2X1 True\n",
      "5CAXk8HNekSZTkpqjV7e5cMFSgyDPphGCG8p5NYxkYeFHyhb 5CAXk8HNekSZTkpqjV7e5cMFSgyDPphGCG8p5NYxkYeFHyhb True\n",
      "5CUiCEfkDg8NBfAV7awobA1fCEFhi9aZujNVoBJKYCBB5pUK 5CUiCEfkDg8NBfAV7awobA1fCEFhi9aZujNVoBJKYCBB5pUK True\n",
      "5FQnXs1GzD4sdNhKvsmd1kNRQohAJNwK32nrGeK3M5dKz4D2 5FQnXs1GzD4sdNhKvsmd1kNRQohAJNwK32nrGeK3M5dKz4D2 True\n",
      "5HbFWUAqg5u2s76Hmjnk4wNSnMKcvHwL5fU4bq1JupMyBwWz 5HbFWUAqg5u2s76Hmjnk4wNSnMKcvHwL5fU4bq1JupMyBwWz True\n",
      "5G9swfhUrBmJYYdtG9oP9eRZ3tafuZbehvSX65Kdzk7xNc5x 5G9swfhUrBmJYYdtG9oP9eRZ3tafuZbehvSX65Kdzk7xNc5x True\n",
      "5DRTcZmG25o4zoLYAgEqo9HgYjHbAT7beE5VXNZxvQ6wm77P 5DRTcZmG25o4zoLYAgEqo9HgYjHbAT7beE5VXNZxvQ6wm77P True\n",
      "5DiNDMFkoxpzSnf1UkZjpBryxjM7YMcwzvB7PBSG1CNv4wWC 5DiNDMFkoxpzSnf1UkZjpBryxjM7YMcwzvB7PBSG1CNv4wWC True\n",
      "5D2DvfDXiqAacdeKLNcGS7n8PYyYemr328FbNi4e5qT6QGaC 5D2DvfDXiqAacdeKLNcGS7n8PYyYemr328FbNi4e5qT6QGaC True\n",
      "5GbcXUiCWBDdgFTBKPQUh5aVjqZr2mgfMPPUmYxkSq6nGaFq 5GbcXUiCWBDdgFTBKPQUh5aVjqZr2mgfMPPUmYxkSq6nGaFq True\n",
      "5Hp8CRWgczPHV2N7apJX5dCypFubX6Ptov4pL6mcmJZtQZQo 5Hp8CRWgczPHV2N7apJX5dCypFubX6Ptov4pL6mcmJZtQZQo True\n",
      "5CiHBwE2YSDWYnmNiZe4WnMSAm6e6jfiYYRbBfrQbyYw7dpb 5CiHBwE2YSDWYnmNiZe4WnMSAm6e6jfiYYRbBfrQbyYw7dpb True\n",
      "5HpYCaxvxpaFUy72F1458n8TL4VpoehqyAvNvW867YUt3mq9 5HpYCaxvxpaFUy72F1458n8TL4VpoehqyAvNvW867YUt3mq9 True\n",
      "5HE4wkXKVT5vmSaKKiXTMRmu2tNDti9Hx4J6AashiehcW5vq 5HE4wkXKVT5vmSaKKiXTMRmu2tNDti9Hx4J6AashiehcW5vq True\n",
      "5GzjHU5c9Busrc5RrjgRNugLUESQ7RD1Bjo3vyfzhDc9ez1d 5GzjHU5c9Busrc5RrjgRNugLUESQ7RD1Bjo3vyfzhDc9ez1d True\n",
      "5F6fNZEUUt8pUvHhzzw8KK1qyc8Deh5Et9waYouZaNSiYrxL 5F6fNZEUUt8pUvHhzzw8KK1qyc8Deh5Et9waYouZaNSiYrxL True\n",
      "5F3qGe7o5ux873PX8MAq2t18npcnQV6QkrVXY8cykc5MT6Cf 5F3qGe7o5ux873PX8MAq2t18npcnQV6QkrVXY8cykc5MT6Cf True\n",
      "5DRdXE9e9wY7MMXDZwerpxAurRDoCefhLAT94oHrFsWMvo2M 5DRdXE9e9wY7MMXDZwerpxAurRDoCefhLAT94oHrFsWMvo2M True\n",
      "5HYYUEgPxK5AkZeN4dmVjxjTLh7Xu3FT3FoC9h6UFREpSjsW 5HYYUEgPxK5AkZeN4dmVjxjTLh7Xu3FT3FoC9h6UFREpSjsW True\n",
      "5CqSeScXXkWDbvhXhND51PA96rUn8ZCXDxRg1wNnAn43YUpp 5CqSeScXXkWDbvhXhND51PA96rUn8ZCXDxRg1wNnAn43YUpp True\n",
      "5HgSPLf9PsBhNksKUBRUxLQQSDCEE1PFaN7JBsqPkf6WButr 5HgSPLf9PsBhNksKUBRUxLQQSDCEE1PFaN7JBsqPkf6WButr True\n",
      "5DyGvySfSJiEZZHS1nuj4BsjmT2QQ2b3bQHNrZ5sYanGk1uu 5DyGvySfSJiEZZHS1nuj4BsjmT2QQ2b3bQHNrZ5sYanGk1uu True\n",
      "5HjPGgP3yR1woFHVp5KtUDTbtfpjCiaSt5xdhetUcZaL4gHi 5HjPGgP3yR1woFHVp5KtUDTbtfpjCiaSt5xdhetUcZaL4gHi True\n",
      "5GH1UG25Qrkq5D3Jdq1xtEJ2nwPK17a94RmFBBJEn7hG3V5X 5GH1UG25Qrkq5D3Jdq1xtEJ2nwPK17a94RmFBBJEn7hG3V5X True\n",
      "5FjacWntLV1zWZFMRiGmhmE66uJwMQ3aDwnxz4HNEkuu7FnX 5FjacWntLV1zWZFMRiGmhmE66uJwMQ3aDwnxz4HNEkuu7FnX True\n",
      "5Hdco2zty3GYYNcLHJyMb3qKbsMPeYnGT87YvjppXogNczVt 5Hdco2zty3GYYNcLHJyMb3qKbsMPeYnGT87YvjppXogNczVt True\n",
      "5CzBrsJmio2Fj6bFg7Y7rg4vXKYwC3UkoF7FJ4EaMENzm2q2 5CzBrsJmio2Fj6bFg7Y7rg4vXKYwC3UkoF7FJ4EaMENzm2q2 True\n",
      "5Ext1B4v7mJAsxQrHmMxU1oQxbTnXkg4j6h5wGHHZCYNwULC 5Ext1B4v7mJAsxQrHmMxU1oQxbTnXkg4j6h5wGHHZCYNwULC True\n",
      "5DACtBvhqqXYq8jsxvxuLE3Rt4u4pdEyfQFczJpcT6nPcaeG 5DACtBvhqqXYq8jsxvxuLE3Rt4u4pdEyfQFczJpcT6nPcaeG True\n",
      "5GEAb9K1PMCQgzJpdLGAWSCKxS3EDKAFUeopbWnGt6ZRJ7Cn 5GEAb9K1PMCQgzJpdLGAWSCKxS3EDKAFUeopbWnGt6ZRJ7Cn True\n",
      "5FUYHszDHcnS5fczfnUiLoq9vNk9NLnmYu4SWQt1uFzDPASb 5FUYHszDHcnS5fczfnUiLoq9vNk9NLnmYu4SWQt1uFzDPASb True\n",
      "5DUvXjGaouB3WVWq9jJJcuKaAUCPta9EynwMxbCUHVmS8fhG 5DUvXjGaouB3WVWq9jJJcuKaAUCPta9EynwMxbCUHVmS8fhG True\n",
      "5CogaRHH5pKAX2swfnNbGukVHGSSqzCTJuSXhj9Lp7ufnqCd 5CogaRHH5pKAX2swfnNbGukVHGSSqzCTJuSXhj9Lp7ufnqCd True\n",
      "5Hgc94zQHcrK8Hd3FgCVceMxZ6iA4uXTpdry3rZf6s9kRaoE 5Hgc94zQHcrK8Hd3FgCVceMxZ6iA4uXTpdry3rZf6s9kRaoE True\n",
      "5FhEPsssrdCpxfAk6wGCcAHbPLstSQ2kmncXwDdor7qgACk6 5FhEPsssrdCpxfAk6wGCcAHbPLstSQ2kmncXwDdor7qgACk6 True\n",
      "5CJdDzk2AX7dmkf6HWry49jYHiPDpLSGqwPJhRpDwXKG3i7U 5CJdDzk2AX7dmkf6HWry49jYHiPDpLSGqwPJhRpDwXKG3i7U True\n",
      "5HjbyryyMpULN69D1H9oaxrbj5cmFxWMDNob5aamvgQF3ugU 5HjbyryyMpULN69D1H9oaxrbj5cmFxWMDNob5aamvgQF3ugU True\n",
      "5FWiVKzJDsdXvA3xebaTmu79S2yuSE2zKvUZq1PB42GvcJdy 5FWiVKzJDsdXvA3xebaTmu79S2yuSE2zKvUZq1PB42GvcJdy True\n",
      "5FnmbYCQa28yivmxcxuKaeJrAb2NuCV8EYchodehE3kpnRjS 5FnmbYCQa28yivmxcxuKaeJrAb2NuCV8EYchodehE3kpnRjS True\n",
      "5EjvHWVi4Ztw5NbbWNaucF1a21yZyRaAMbTWpX3GiLa3eECC 5EjvHWVi4Ztw5NbbWNaucF1a21yZyRaAMbTWpX3GiLa3eECC True\n",
      "5CfYtbLf4s1VAsB2b51hnADwoSLtNWVsMxNrgdhZHEVb9fpn 5CfYtbLf4s1VAsB2b51hnADwoSLtNWVsMxNrgdhZHEVb9fpn True\n",
      "5FLGMrWwFdGM5MCLw2ddU2qP1vwJT6CfN9nFBVs3kzmFbVui 5FLGMrWwFdGM5MCLw2ddU2qP1vwJT6CfN9nFBVs3kzmFbVui True\n",
      "5Cm6SwxqBnjLWAUDiPnwLvYQdzjoGCqzYeUyXD3VJnDeANYn 5Cm6SwxqBnjLWAUDiPnwLvYQdzjoGCqzYeUyXD3VJnDeANYn True\n",
      "5CQ415eHKkDknkSf3VdnnrncvGH8F6nBZTwySmZCzA4UTCTM 5CQ415eHKkDknkSf3VdnnrncvGH8F6nBZTwySmZCzA4UTCTM True\n",
      "5ES6gtXSxw7fTR36tkcG4CXuzDnrUWBMpKvPBajXTMM13VxQ 5ES6gtXSxw7fTR36tkcG4CXuzDnrUWBMpKvPBajXTMM13VxQ True\n",
      "5FEmR5Rf1rX7ZivB2MaGBaYfq9xXAPSz3ttdABzizNmhWq3V 5FEmR5Rf1rX7ZivB2MaGBaYfq9xXAPSz3ttdABzizNmhWq3V True\n",
      "5GZSdoqCPkgkenypdQ7LJYCaYv4q4813Yyp9idHbrpqKvYKB 5GZSdoqCPkgkenypdQ7LJYCaYv4q4813Yyp9idHbrpqKvYKB True\n",
      "5C5QM5U8u7f2MDygQbzGZmcSbz9KxSk9vy7uNW4XKnmWmNbj 5C5QM5U8u7f2MDygQbzGZmcSbz9KxSk9vy7uNW4XKnmWmNbj True\n",
      "5HeWmiG9oJb5uFnQoB9Ea3JFD7yUitXAVPoigda8giUoDfnR 5HeWmiG9oJb5uFnQoB9Ea3JFD7yUitXAVPoigda8giUoDfnR True\n",
      "5D7ZghXBKPu72KsE7cjKmsboCd2geZuxyYDXVJ8AcGMpJWup 5D7ZghXBKPu72KsE7cjKmsboCd2geZuxyYDXVJ8AcGMpJWup True\n",
      "5FW5SqGrVLGu1gVfZMa5xawsWngwQTSpFGY8MPKpCgMZcdNi 5FW5SqGrVLGu1gVfZMa5xawsWngwQTSpFGY8MPKpCgMZcdNi True\n",
      "5GxtPoPTrSjU1mbjWRtTpzrPpJ9mb3sKEcKYPAnyB3ipAB4c 5GxtPoPTrSjU1mbjWRtTpzrPpJ9mb3sKEcKYPAnyB3ipAB4c True\n",
      "5EZS1Qu64CU7C4YdKkxkXxRmSjX9dDSijUoHrDSg6Cwc1sdv 5EZS1Qu64CU7C4YdKkxkXxRmSjX9dDSijUoHrDSg6Cwc1sdv True\n",
      "5E1viHpUQwSzZQUovFHieKnna1dngV8nK5PgvD3A7t9McGYh 5E1viHpUQwSzZQUovFHieKnna1dngV8nK5PgvD3A7t9McGYh True\n",
      "5E4p9LhV8jfCHmvqXiopYbG1FU57fP6hV3u2rYu9gefW4A4L 5E4p9LhV8jfCHmvqXiopYbG1FU57fP6hV3u2rYu9gefW4A4L True\n",
      "5Dw6oJmgwg4sjGC1Q6HYVz1Bkgsg5FPX2zkZmUkD3NxCikdd 5Dw6oJmgwg4sjGC1Q6HYVz1Bkgsg5FPX2zkZmUkD3NxCikdd True\n",
      "5FbFhtzVUsYhPijv7qeoNSgvFjYxoBaTs2h7jrRifUK4fpfF 5FbFhtzVUsYhPijv7qeoNSgvFjYxoBaTs2h7jrRifUK4fpfF True\n",
      "5FkFySenHCmhqNBHrZzrNAMuyUJ6PahVpe6UH99Z8sVR9R23 5FkFySenHCmhqNBHrZzrNAMuyUJ6PahVpe6UH99Z8sVR9R23 True\n",
      "5CUhwJ4Qa7BWypNqsB3bGiNWRPFmStUsuc3JnsF2LPnkR8L3 5CUhwJ4Qa7BWypNqsB3bGiNWRPFmStUsuc3JnsF2LPnkR8L3 True\n",
      "5FzrpRY2VCxCUcapRPjU9Pw8jbpgmpNQFav5qCFaYep9LXm6 5FzrpRY2VCxCUcapRPjU9Pw8jbpgmpNQFav5qCFaYep9LXm6 True\n",
      "5CY2ut7ZxZuXWbxdWQfQzWkmekq8HtMbcnYYZ73B4uX2v3kC 5CY2ut7ZxZuXWbxdWQfQzWkmekq8HtMbcnYYZ73B4uX2v3kC True\n",
      "5G9Eg8aYoeUaucD9RxNGXbPximQgdRxThL2FJ7e755p1DGuc 5G9Eg8aYoeUaucD9RxNGXbPximQgdRxThL2FJ7e755p1DGuc True\n",
      "5EhdV2jLtP4hc25CzTpdy4FgqJiMFmJ2UhYugGuLjaGUax4v 5EhdV2jLtP4hc25CzTpdy4FgqJiMFmJ2UhYugGuLjaGUax4v True\n",
      "5Dw7vAsQGLTgL7PUETAbaLyhHDE7voediicsiPh1nxTTQoJ4 5Dw7vAsQGLTgL7PUETAbaLyhHDE7voediicsiPh1nxTTQoJ4 True\n",
      "5H9ZikDhdLBCfH94NVdNoXzHsoYMNjcWu12wPBaPXSHmyPrY 5H9ZikDhdLBCfH94NVdNoXzHsoYMNjcWu12wPBaPXSHmyPrY True\n",
      "5HCCRj6TQR2zyhRuXuya6A7rRHgdv5X6tfySexcvpDpCPn7r 5HCCRj6TQR2zyhRuXuya6A7rRHgdv5X6tfySexcvpDpCPn7r True\n",
      "5GExxW9zskSKT3mNWYLLu7CZq3AAzxmRNX3mdQhPGez7SDms 5GExxW9zskSKT3mNWYLLu7CZq3AAzxmRNX3mdQhPGez7SDms True\n",
      "5HjivRKGf2y55eQNJXZXRmxKnQ4LsiswYoes9VuPdQDBTuZX 5HjivRKGf2y55eQNJXZXRmxKnQ4LsiswYoes9VuPdQDBTuZX True\n",
      "5Fo1vwxJykLub26aWBUpJo6VPKLFZtwmsYK5deGsPT9eByxJ 5Fo1vwxJykLub26aWBUpJo6VPKLFZtwmsYK5deGsPT9eByxJ True\n",
      "5E1a9ws6KvP3rhheKeF6ds3A1yjFznC4G9zw1x6fSwVEvNk1 5E1a9ws6KvP3rhheKeF6ds3A1yjFznC4G9zw1x6fSwVEvNk1 True\n",
      "5ELbnqa8uTqwXPhLnubq3Kk6TGvSPL7rgArU2He9Ng4p2qjN 5ELbnqa8uTqwXPhLnubq3Kk6TGvSPL7rgArU2He9Ng4p2qjN True\n",
      "5GKzo4uHox8Nrk1PxXsNuXJ2Ld7JWTHUHx7hLK94MbWgV9Sn 5GKzo4uHox8Nrk1PxXsNuXJ2Ld7JWTHUHx7hLK94MbWgV9Sn True\n"
     ]
    }
   ],
   "source": [
    "for old_coldkey, (dest, block, arb_block) in moved_already.items():\n",
    "    result = sub.query_subtensor(\n",
    "        name=\"ColdkeySwapDestinations\",\n",
    "        params=[old_coldkey],\n",
    "        block=arb_block,\n",
    "    )\n",
    "    if result is not None:\n",
    "        print(result[0], dest, result[0] == dest) "
   ]
  },
  {
   "cell_type": "code",
   "execution_count": 103,
   "metadata": {},
   "outputs": [],
   "source": [
    "with open(\"moved_already.json\", \"w\") as f:\n",
    "    json.dump(moved_already, f)"
   ]
  }
 ],
 "metadata": {
  "kernelspec": {
   "display_name": "finney",
   "language": "python",
   "name": "python3"
  },
  "language_info": {
   "codemirror_mode": {
    "name": "ipython",
    "version": 3
   },
   "file_extension": ".py",
   "mimetype": "text/x-python",
   "name": "python",
   "nbconvert_exporter": "python",
   "pygments_lexer": "ipython3",
   "version": "3.9.15"
  }
 },
 "nbformat": 4,
 "nbformat_minor": 2
}
