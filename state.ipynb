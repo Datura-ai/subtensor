{
 "cells": [
  {
   "cell_type": "code",
   "execution_count": 62,
   "metadata": {},
   "outputs": [
    {
     "name": "stdout",
     "output_type": "stream",
     "text": [
      "\u001b[34m2024-07-13 00:10:54.181\u001b[0m | \u001b[1m      INFO      \u001b[0m | You are connecting to finney network with endpoint wss://entrypoint-finney.opentensor.ai:443.\n",
      "\u001b[34m2024-07-13 00:10:54.182\u001b[0m | \u001b[33m\u001b[1m    WARNING     \u001b[0m | We strongly encourage running a local subtensor node whenever possible. This increases decentralization and resilience of the network.\n",
      "\u001b[34m2024-07-13 00:10:54.182\u001b[0m | \u001b[33m\u001b[1m    WARNING     \u001b[0m | In a future release, local subtensor will become the default endpoint. To get ahead of this change, please run a local subtensor node and point to it.\n",
      "\u001b[34m2024-07-13 00:10:55.037\u001b[0m | \u001b[1m      INFO      \u001b[0m | Connected to finney network and wss://entrypoint-finney.opentensor.ai:443.\n"
     ]
    }
   ],
   "source": [
    "import bittensor \n",
    "sub = bittensor.subtensor()"
   ]
  },
  {
   "cell_type": "code",
   "execution_count": 63,
   "metadata": {},
   "outputs": [
    {
     "data": {
      "text/plain": [
       "3374761"
      ]
     },
     "execution_count": 63,
     "metadata": {},
     "output_type": "execute_result"
    }
   ],
   "source": [
    "sub.block"
   ]
  },
  {
   "cell_type": "code",
   "execution_count": 64,
   "metadata": {},
   "outputs": [],
   "source": [
    "already = []\n",
    "coming = []\n",
    "all = []\n",
    "for el in sub.query_map(\"SubtensorModule\", \"ColdkeyArbitrationBlock\"):\n",
    "    if el[1] < 3374728:\n",
    "        already.append((el[0].value, el[1].value))\n",
    "    else:\n",
    "        coming.append((el[0].value, el[1].value))\n",
    "    all.append((el[0].value, el[1].value))\n",
    "\n",
    "\n",
    "coming.sort(key=lambda x: x[1])\n",
    "already.sort(key=lambda x: x[1])"
   ]
  },
  {
   "cell_type": "code",
   "execution_count": 65,
   "metadata": {},
   "outputs": [
    {
     "name": "stdout",
     "output_type": "stream",
     "text": [
      "21973.043874098\n",
      "20023.284666663\n",
      "26164.77317002\n",
      "15469.92430976\n",
      "41472.691413213\n",
      "31150.557787041\n",
      "25173.708860315\n",
      "0.0\n",
      "0.0\n",
      "201.516985484\n",
      "34495.751014289\n",
      "34732.26076254\n",
      "1667.533182911\n",
      "17037.439590316\n",
      "21951.340339572\n",
      "18830.027940312\n",
      "24435.97121711\n",
      "27311.894682118\n",
      "23433.540452456\n",
      "16657.442197031\n",
      "2132.9462742\n",
      "21610.790462924\n",
      "417.623214069\n",
      "122.086404258\n",
      "101.748764212\n",
      "111.219429903\n",
      "0.0\n",
      "0.0\n",
      "0.0\n",
      "0.0\n",
      "0.0\n",
      "0.0\n",
      "0.0\n",
      "33.202718474\n",
      "298.14648475\n",
      "0.0\n"
     ]
    }
   ],
   "source": [
    "for al in already:\n",
    "    for deleg in sub.substrate.query( \"SubtensorModule\", \"StakingHotkeys\", [al[0]]).value:\n",
    "        if sub.substrate.query( \"SubtensorModule\", \"Owner\", [deleg]).value != al[0]:\n",
    "            print(sub.substrate.query( \"SubtensorModule\", \"Stake\", [deleg, al[0]]).value/1000000000)\n",
    "            # this is a delegation.\n",
    "            "
   ]
  },
  {
   "cell_type": "code",
   "execution_count": 66,
   "metadata": {},
   "outputs": [
    {
     "data": {
      "text/plain": [
       "119"
      ]
     },
     "execution_count": 66,
     "metadata": {},
     "output_type": "execute_result"
    }
   ],
   "source": [
    "len( already)"
   ]
  },
  {
   "cell_type": "code",
   "execution_count": 67,
   "metadata": {},
   "outputs": [
    {
     "data": {
      "text/plain": [
       "350"
      ]
     },
     "execution_count": 67,
     "metadata": {},
     "output_type": "execute_result"
    }
   ],
   "source": [
    "len(coming)"
   ]
  },
  {
   "cell_type": "code",
   "execution_count": null,
   "metadata": {},
   "outputs": [],
   "source": []
  },
  {
   "cell_type": "code",
   "execution_count": 68,
   "metadata": {},
   "outputs": [
    {
     "data": {
      "text/plain": [
       "['5F4tQyWrhfGVcNhoqeiNsR6KjD4wMZ2kfhLj4oHYuyHbZAc3']"
      ]
     },
     "execution_count": 68,
     "metadata": {},
     "output_type": "execute_result"
    }
   ],
   "source": [
    "sub.substrate.query( \"SubtensorModule\", \"StakingHotkeys\", [\"5CUNWEwRBXJbGdDbGKm7cxjX3Jyk6QmREHa1QAgbNM3Fd3Hq\"]).value # new"
   ]
  },
  {
   "cell_type": "code",
   "execution_count": 69,
   "metadata": {},
   "outputs": [
    {
     "data": {
      "text/plain": [
       "'5GZSAgaVGQqegjhEkxpJjpSVLVmNnE2vx2PFLzr7kBBMKpGQ'"
      ]
     },
     "execution_count": 69,
     "metadata": {},
     "output_type": "execute_result"
    }
   ],
   "source": [
    "sub.substrate.query( \"SubtensorModule\", \"Owner\", [\"5FFApaS75bv5pJHfAp2FVLBj9ZaXuFDjEypsaBNc1wCfe52v\"]).value"
   ]
  },
  {
   "cell_type": "code",
   "execution_count": 70,
   "metadata": {},
   "outputs": [
    {
     "data": {
      "text/plain": [
       "'5GZSAgaVGQqegjhEkxpJjpSVLVmNnE2vx2PFLzr7kBBMKpGQ'"
      ]
     },
     "execution_count": 70,
     "metadata": {},
     "output_type": "execute_result"
    }
   ],
   "source": [
    "sub.substrate.query( \"SubtensorModule\", \"Owner\", [\"5FFApaS75bv5pJHfAp2FVLBj9ZaXuFDjEypsaBNc1wCfe52v\"]).value"
   ]
  },
  {
   "cell_type": "code",
   "execution_count": 71,
   "metadata": {},
   "outputs": [
    {
     "data": {
      "text/plain": [
       "17037439590316"
      ]
     },
     "execution_count": 71,
     "metadata": {},
     "output_type": "execute_result"
    }
   ],
   "source": [
    "sub.substrate.query( \"SubtensorModule\", \"Stake\", [\"5F4tQyWrhfGVcNhoqeiNsR6KjD4wMZ2kfhLj4oHYuyHbZAc3\", \"5GjWE7iQjFfSVc4su4UcmuEzhfBE11CSDCnE9UrPmWxuxp8W\"]).value"
   ]
  },
  {
   "cell_type": "code",
   "execution_count": 72,
   "metadata": {},
   "outputs": [
    {
     "data": {
      "text/plain": [
       "0"
      ]
     },
     "execution_count": 72,
     "metadata": {},
     "output_type": "execute_result"
    }
   ],
   "source": [
    "sub.substrate.query( \"SubtensorModule\", \"Stake\", [\"5F4tQyWrhfGVcNhoqeiNsR6KjD4wMZ2kfhLj4oHYuyHbZAc3\", \"5CUNWEwRBXJbGdDbGKm7cxjX3Jyk6QmREHa1QAgbNM3Fd3Hq\"]).value"
   ]
  },
  {
   "cell_type": "code",
   "execution_count": null,
   "metadata": {},
   "outputs": [],
   "source": []
  }
 ],
 "metadata": {
  "kernelspec": {
   "display_name": "Python 3",
   "language": "python",
   "name": "python3"
  },
  "language_info": {
   "codemirror_mode": {
    "name": "ipython",
    "version": 3
   },
   "file_extension": ".py",
   "mimetype": "text/x-python",
   "name": "python",
   "nbconvert_exporter": "python",
   "pygments_lexer": "ipython3",
   "version": "3.11.9"
  }
 },
 "nbformat": 4,
 "nbformat_minor": 2
}
