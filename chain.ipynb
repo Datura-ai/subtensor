{
 "cells": [
  {
   "cell_type": "code",
   "execution_count": 1,
   "metadata": {},
   "outputs": [],
   "source": [
    "import bittensor as bt"
   ]
  },
  {
   "cell_type": "code",
   "execution_count": 2,
   "metadata": {},
   "outputs": [
    {
     "name": "stdout",
     "output_type": "stream",
     "text": [
      "\u001b[34m2024-07-25 13:12:38.646\u001b[0m | \u001b[1m      INFO      \u001b[0m | You are connecting to finney network with endpoint wss://entrypoint-finney.opentensor.ai:443.\n",
      "\u001b[34m2024-07-25 13:12:38.646\u001b[0m | \u001b[33m\u001b[1m    WARNING     \u001b[0m | We strongly encourage running a local subtensor node whenever possible. This increases decentralization and resilience of the network.\n",
      "\u001b[34m2024-07-25 13:12:38.647\u001b[0m | \u001b[33m\u001b[1m    WARNING     \u001b[0m | In a future release, local subtensor will become the default endpoint. To get ahead of this change, please run a local subtensor node and point to it.\n",
      "\u001b[34m2024-07-25 13:12:39.959\u001b[0m | \u001b[1m      INFO      \u001b[0m | Connected to finney network and wss://entrypoint-finney.opentensor.ai:443.\n"
     ]
    }
   ],
   "source": [
    "sub = bt.subtensor()"
   ]
  },
  {
   "cell_type": "code",
   "execution_count": 11,
   "metadata": {},
   "outputs": [
    {
     "name": "stdout",
     "output_type": "stream",
     "text": [
      "Number of stakes: 95\n",
      "Total stake: 489578.954519282\n"
     ]
    }
   ],
   "source": [
    "stakes = list(sub.query_map(\n",
    "    module=\"SubtensorModule\",\n",
    "    name=\"Stake\",\n",
    "    params=[\"5FxcZraZACr4L78jWkcYe3FHdiwiAUzrKLVtsSwkvFobBKqq\"]\n",
    "))\n",
    "\n",
    "total_stake = sum(stake[1].value for stake in stakes)\n",
    "count = len(stakes)\n",
    "\n",
    "print(f\"Number of stakes: {count}\")\n",
    "print(f\"Total stake: {total_stake/1e9}\")\n"
   ]
  },
  {
   "cell_type": "code",
   "execution_count": 12,
   "metadata": {},
   "outputs": [
    {
     "name": "stdout",
     "output_type": "stream",
     "text": [
      "Number of stakes: 0\n",
      "Total stake: 0.0\n"
     ]
    }
   ],
   "source": [
    "stakes = list(sub.query_map(\n",
    "    module=\"SubtensorModule\",\n",
    "    name=\"Stake\",\n",
    "    params=[\"5CaNj3BarTHotEK1n513aoTtFeXcjf6uvKzAyzNuv9cirUoW\"]\n",
    "))\n",
    "\n",
    "total_stake = sum(stake[1].value for stake in stakes)\n",
    "count = len(stakes)\n",
    "\n",
    "print(f\"Number of stakes: {count}\")\n",
    "print(f\"Total stake: {total_stake/1e9}\")\n"
   ]
  },
  {
   "cell_type": "code",
   "execution_count": null,
   "metadata": {},
   "outputs": [],
   "source": []
  }
 ],
 "metadata": {
  "kernelspec": {
   "display_name": "Python 3",
   "language": "python",
   "name": "python3"
  },
  "language_info": {
   "codemirror_mode": {
    "name": "ipython",
    "version": 3
   },
   "file_extension": ".py",
   "mimetype": "text/x-python",
   "name": "python",
   "nbconvert_exporter": "python",
   "pygments_lexer": "ipython3",
   "version": "3.11.9"
  }
 },
 "nbformat": 4,
 "nbformat_minor": 2
}
